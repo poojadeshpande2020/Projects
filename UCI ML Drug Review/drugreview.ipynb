{
 "cells": [
  {
   "cell_type": "markdown",
   "metadata": {},
   "source": [
    "# Project Description\n",
    "\n",
    "The purpose of this project is to perform sentimental analysis of the drug reviews. Along with this, some important questions such as \"what are the top 5 conditions mentioned in the dataset\", \"significant best and worst rated drugs for these top 5 conditions\", \"no of reviews per year\", \"top reviewed drugs\" were answered through exploratory data analysis. The following steps were carried out:\n",
    "1. Data Cleaning\n",
    "2. Exploratory Data Analysis\n",
    "3. Data visualization\n",
    "4. Text preprocessing\n",
    "5. Predictive models\n",
    "6. Comparison using AUC score\n",
    "7. Choose final model and tune  hyperparameters"
   ]
  },
  {
   "cell_type": "code",
   "execution_count": 1,
   "metadata": {},
   "outputs": [],
   "source": [
    "import pandas as pd\n",
    "import numpy as np\n",
    "from matplotlib import pyplot as plt\n",
    "import re\n",
    "import string\n",
    "from sklearn.feature_extraction.text import CountVectorizer\n",
    "from sklearn.model_selection import train_test_split\n",
    "from sklearn.metrics import confusion_matrix,classification_report\n",
    "from nltk.corpus import stopwords\n",
    "import seaborn as sns\n",
    "import random\n",
    "import os\n",
    "import seaborn as sns\n",
    "from nltk.stem import WordNetLemmatizer\n",
    "from nltk.stem.porter import PorterStemmer\n",
    "from sklearn.metrics import roc_curve\n",
    "from sklearn.metrics import auc\n",
    "from sklearn.feature_extraction.text import TfidfVectorizer\n",
    "from sklearn.metrics import accuracy_score\n",
    "\n",
    "from sklearn.naive_bayes import MultinomialNB\n",
    "from sklearn.naive_bayes import BernoulliNB\n",
    "from sklearn.linear_model import LogisticRegression\n",
    "from sklearn.svm import SVC\n",
    "from sklearn.tree import DecisionTreeClassifier\n",
    "from sklearn.ensemble import RandomForestClassifier\n",
    "from sklearn.model_selection import GridSearchCV\n",
    "from sklearn.metrics import f1_score\n",
    "\n",
    "import warnings\n",
    "warnings.filterwarnings('ignore')"
   ]
  },
  {
   "cell_type": "code",
   "execution_count": 2,
   "metadata": {},
   "outputs": [],
   "source": [
    "#Exception handling method to open the data file\n",
    "path = '../data/'\n",
    "\n",
    "file = os.path.join(path,\"drugsComTest_raw.csv\")\n",
    "\n",
    "try:\n",
    "    df = pd.read_csv(file)\n",
    "except FileNotFoundError as err:\n",
    "    print(\"Please enter a valid file location: \",err)"
   ]
  },
  {
   "cell_type": "markdown",
   "metadata": {},
   "source": [
    "# Data Dictionary"
   ]
  },
  {
   "cell_type": "code",
   "execution_count": 3,
   "metadata": {},
   "outputs": [
    {
     "data": {
      "text/html": [
       "<div>\n",
       "<style scoped>\n",
       "    .dataframe tbody tr th:only-of-type {\n",
       "        vertical-align: middle;\n",
       "    }\n",
       "\n",
       "    .dataframe tbody tr th {\n",
       "        vertical-align: top;\n",
       "    }\n",
       "\n",
       "    .dataframe thead th {\n",
       "        text-align: right;\n",
       "    }\n",
       "</style>\n",
       "<table border=\"1\" class=\"dataframe\">\n",
       "  <thead>\n",
       "    <tr style=\"text-align: right;\">\n",
       "      <th></th>\n",
       "      <th>Dtype</th>\n",
       "      <th>No.of unique items</th>\n",
       "      <th>Description</th>\n",
       "    </tr>\n",
       "  </thead>\n",
       "  <tbody>\n",
       "    <tr>\n",
       "      <td>uniqueID</td>\n",
       "      <td>int64</td>\n",
       "      <td>53766</td>\n",
       "      <td>Reviewer's unique identification number</td>\n",
       "    </tr>\n",
       "    <tr>\n",
       "      <td>drugName</td>\n",
       "      <td>object</td>\n",
       "      <td>2637</td>\n",
       "      <td>Name of the drug that is reviewed</td>\n",
       "    </tr>\n",
       "    <tr>\n",
       "      <td>condition</td>\n",
       "      <td>object</td>\n",
       "      <td>709</td>\n",
       "      <td>Condition that is being treated with the drug</td>\n",
       "    </tr>\n",
       "    <tr>\n",
       "      <td>review</td>\n",
       "      <td>object</td>\n",
       "      <td>48280</td>\n",
       "      <td>Text of the review</td>\n",
       "    </tr>\n",
       "    <tr>\n",
       "      <td>rating</td>\n",
       "      <td>int64</td>\n",
       "      <td>10</td>\n",
       "      <td>Drug rating on a scale of 1(worst) to 10(best)</td>\n",
       "    </tr>\n",
       "    <tr>\n",
       "      <td>date</td>\n",
       "      <td>object</td>\n",
       "      <td>3566</td>\n",
       "      <td>Review publish date</td>\n",
       "    </tr>\n",
       "    <tr>\n",
       "      <td>usefulCount</td>\n",
       "      <td>int64</td>\n",
       "      <td>325</td>\n",
       "      <td>A measure for the usefulness of a review</td>\n",
       "    </tr>\n",
       "  </tbody>\n",
       "</table>\n",
       "</div>"
      ],
      "text/plain": [
       "              Dtype  No.of unique items  \\\n",
       "uniqueID      int64               53766   \n",
       "drugName     object                2637   \n",
       "condition    object                 709   \n",
       "review       object               48280   \n",
       "rating        int64                  10   \n",
       "date         object                3566   \n",
       "usefulCount   int64                 325   \n",
       "\n",
       "                                                Description  \n",
       "uniqueID            Reviewer's unique identification number  \n",
       "drugName                  Name of the drug that is reviewed  \n",
       "condition     Condition that is being treated with the drug  \n",
       "review                                   Text of the review  \n",
       "rating       Drug rating on a scale of 1(worst) to 10(best)  \n",
       "date                                    Review publish date  \n",
       "usefulCount        A measure for the usefulness of a review  "
      ]
     },
     "execution_count": 3,
     "metadata": {},
     "output_type": "execute_result"
    }
   ],
   "source": [
    "#Creating a Data Dictionary for the drug review dataset.\n",
    "\n",
    "dtype=[]\n",
    "unique_items=[]\n",
    "\n",
    "for i in df.columns:\n",
    "    dtype.append(df[i].dtype)\n",
    "    unique_items.append(len(df[i].unique()))\n",
    "    \n",
    "data_dict=pd.DataFrame({'Dtype':dtype,\n",
    "              'No.of unique items':unique_items,\n",
    "               'Description':[\"Reviewer's unique identification number\",\n",
    "                              \"Name of the drug that is reviewed\",\n",
    "                              \"Condition that is being treated with the drug\",\n",
    "                              \"Text of the review\",\n",
    "                              \"Drug rating on a scale of 1(worst) to 10(best)\",\n",
    "                              \"Review publish date\",\n",
    "                              \"A measure for the usefulness of a review\"]},\n",
    "               index = ['uniqueID','drugName','condition','review','rating','date','usefulCount'])\n",
    "data_dict"
   ]
  },
  {
   "cell_type": "markdown",
   "metadata": {},
   "source": [
    "# Data Cleaning"
   ]
  },
  {
   "cell_type": "markdown",
   "metadata": {},
   "source": [
    "Data cleaning steps included:\n",
    "1. Dropping the rows where 'condition' is Null\n",
    "2. Eliminate instances of '&#039;' from the reviews\n",
    "3. Eliminate instances of '\\r\\r\\n' from the reviews.\n",
    "4. Dropping the column 'uniqueID'\n",
    "5. Delete the rows which contain \" users found this comment helpful\" in the condition column."
   ]
  },
  {
   "cell_type": "code",
   "execution_count": 4,
   "metadata": {},
   "outputs": [
    {
     "data": {
      "text/plain": [
       "uniqueID       False\n",
       "drugName       False\n",
       "condition       True\n",
       "review         False\n",
       "rating         False\n",
       "date           False\n",
       "usefulCount    False\n",
       "dtype: bool"
      ]
     },
     "execution_count": 4,
     "metadata": {},
     "output_type": "execute_result"
    }
   ],
   "source": [
    "#Check for Null values in the columns\n",
    "\n",
    "df.isnull().any()"
   ]
  },
  {
   "cell_type": "code",
   "execution_count": 5,
   "metadata": {},
   "outputs": [],
   "source": [
    "#Drop the rows where the 'condition' is Nan\n",
    "\n",
    "nan_rows=df[df['condition'].isnull()]\n",
    "df=df.drop(nan_rows.index)"
   ]
  },
  {
   "cell_type": "code",
   "execution_count": 6,
   "metadata": {},
   "outputs": [],
   "source": [
    "#Data cleaning: Eliminated instances of '&#039;' from 'review'\n",
    "\n",
    "df['review']=df['review'].str.replace('&#039;','')\n"
   ]
  },
  {
   "cell_type": "code",
   "execution_count": 7,
   "metadata": {},
   "outputs": [],
   "source": [
    "#Drop the column uniqueID\n",
    "\n",
    "df=df.drop(columns='uniqueID')"
   ]
  },
  {
   "cell_type": "code",
   "execution_count": 8,
   "metadata": {},
   "outputs": [],
   "source": [
    "#Eliminated instances of '\\r\\r\\n' in the reviews\n",
    "\n",
    "df['review']=df['review'].str.replace('\\r\\r\\n','')\n",
    "df.reset_index(drop=True,inplace=True)"
   ]
  },
  {
   "cell_type": "code",
   "execution_count": 9,
   "metadata": {},
   "outputs": [],
   "source": [
    "#Delete the rows which contain \" users found this comment helpful\" in the condition column.\n",
    "\n",
    "#Boolean masking to select the bad rows\n",
    "\n",
    "bad_rows=df[df.condition.str.contains(r'\\d+</span> users found this comment helpful.',na=False)] \n",
    "df.drop(df.index[bad_rows.index], inplace=True)\n",
    "\n",
    "#Reset the index\n",
    "\n",
    "df.reset_index(drop=True,inplace=True)"
   ]
  },
  {
   "cell_type": "markdown",
   "metadata": {},
   "source": [
    "# Descriptive Analysis"
   ]
  },
  {
   "cell_type": "markdown",
   "metadata": {},
   "source": [
    "#### Through EDA, some important questions regarding the drugs for the top 5 conditions were answered."
   ]
  },
  {
   "cell_type": "code",
   "execution_count": 10,
   "metadata": {},
   "outputs": [
    {
     "name": "stdout",
     "output_type": "stream",
     "text": [
      "Number of entries in the Dataframe: 53200\n",
      "Number of columns:                      6\n"
     ]
    }
   ],
   "source": [
    "print(\"Number of entries in the Dataframe: {:>5d}\".format(df.shape[0]))\n",
    "print(\"Number of columns: {:22d}\".format(df.shape[1]))"
   ]
  },
  {
   "cell_type": "code",
   "execution_count": 11,
   "metadata": {},
   "outputs": [
    {
     "data": {
      "text/html": [
       "<div>\n",
       "<style scoped>\n",
       "    .dataframe tbody tr th:only-of-type {\n",
       "        vertical-align: middle;\n",
       "    }\n",
       "\n",
       "    .dataframe tbody tr th {\n",
       "        vertical-align: top;\n",
       "    }\n",
       "\n",
       "    .dataframe thead th {\n",
       "        text-align: right;\n",
       "    }\n",
       "</style>\n",
       "<table border=\"1\" class=\"dataframe\">\n",
       "  <thead>\n",
       "    <tr style=\"text-align: right;\">\n",
       "      <th></th>\n",
       "      <th>rating</th>\n",
       "      <th>usefulCount</th>\n",
       "    </tr>\n",
       "  </thead>\n",
       "  <tbody>\n",
       "    <tr>\n",
       "      <td>count</td>\n",
       "      <td>53200.000000</td>\n",
       "      <td>53200.000000</td>\n",
       "    </tr>\n",
       "    <tr>\n",
       "      <td>mean</td>\n",
       "      <td>6.978289</td>\n",
       "      <td>28.170282</td>\n",
       "    </tr>\n",
       "    <tr>\n",
       "      <td>std</td>\n",
       "      <td>3.286389</td>\n",
       "      <td>36.284596</td>\n",
       "    </tr>\n",
       "    <tr>\n",
       "      <td>min</td>\n",
       "      <td>1.000000</td>\n",
       "      <td>0.000000</td>\n",
       "    </tr>\n",
       "    <tr>\n",
       "      <td>25%</td>\n",
       "      <td>4.000000</td>\n",
       "      <td>6.000000</td>\n",
       "    </tr>\n",
       "    <tr>\n",
       "      <td>50%</td>\n",
       "      <td>8.000000</td>\n",
       "      <td>16.000000</td>\n",
       "    </tr>\n",
       "    <tr>\n",
       "      <td>75%</td>\n",
       "      <td>10.000000</td>\n",
       "      <td>36.000000</td>\n",
       "    </tr>\n",
       "    <tr>\n",
       "      <td>max</td>\n",
       "      <td>10.000000</td>\n",
       "      <td>949.000000</td>\n",
       "    </tr>\n",
       "  </tbody>\n",
       "</table>\n",
       "</div>"
      ],
      "text/plain": [
       "             rating   usefulCount\n",
       "count  53200.000000  53200.000000\n",
       "mean       6.978289     28.170282\n",
       "std        3.286389     36.284596\n",
       "min        1.000000      0.000000\n",
       "25%        4.000000      6.000000\n",
       "50%        8.000000     16.000000\n",
       "75%       10.000000     36.000000\n",
       "max       10.000000    949.000000"
      ]
     },
     "execution_count": 11,
     "metadata": {},
     "output_type": "execute_result"
    }
   ],
   "source": [
    "df.describe()"
   ]
  },
  {
   "cell_type": "code",
   "execution_count": 12,
   "metadata": {},
   "outputs": [
    {
     "data": {
      "text/plain": [
       "664"
      ]
     },
     "execution_count": 12,
     "metadata": {},
     "output_type": "execute_result"
    }
   ],
   "source": [
    "#No of unique conditions in the dataset\n",
    "len(df['condition'].unique())"
   ]
  },
  {
   "cell_type": "code",
   "execution_count": 13,
   "metadata": {},
   "outputs": [
    {
     "name": "stdout",
     "output_type": "stream",
     "text": [
      "The top 5 reviewed conditions are: \n",
      "\n",
      "Condition\t\tNo.of Reviews\n",
      "Birth Control                    9648\n",
      "Depression                       3095\n",
      "Pain                             2100\n",
      "Anxiety                          1908\n",
      "Acne                             1847\n"
     ]
    }
   ],
   "source": [
    "#Find the top 5 conditions\n",
    "\n",
    "top_5_condt=df['condition'].value_counts().nlargest(5)\n",
    "\n",
    "print(\"The top 5 reviewed conditions are: \\n\")\n",
    "print(\"Condition\\t\\tNo.of Reviews\")\n",
    "\n",
    "for i,z in enumerate(top_5_condt):\n",
    "    print('{:20s} {:>16d}'.format(top_5_condt.index[i],z))"
   ]
  },
  {
   "cell_type": "code",
   "execution_count": 14,
   "metadata": {},
   "outputs": [
    {
     "data": {
      "text/html": [
       "<div>\n",
       "<style scoped>\n",
       "    .dataframe tbody tr th:only-of-type {\n",
       "        vertical-align: middle;\n",
       "    }\n",
       "\n",
       "    .dataframe tbody tr th {\n",
       "        vertical-align: top;\n",
       "    }\n",
       "\n",
       "    .dataframe thead th {\n",
       "        text-align: right;\n",
       "    }\n",
       "</style>\n",
       "<table border=\"1\" class=\"dataframe\">\n",
       "  <thead>\n",
       "    <tr style=\"text-align: right;\">\n",
       "      <th></th>\n",
       "      <th>drugName</th>\n",
       "      <th>condition</th>\n",
       "      <th>review</th>\n",
       "      <th>rating</th>\n",
       "      <th>date</th>\n",
       "      <th>usefulCount</th>\n",
       "    </tr>\n",
       "  </thead>\n",
       "  <tbody>\n",
       "    <tr>\n",
       "      <td>0</td>\n",
       "      <td>Mirtazapine</td>\n",
       "      <td>Depression</td>\n",
       "      <td>\"Ive tried a few antidepressants over the year...</td>\n",
       "      <td>10</td>\n",
       "      <td>28-Feb-12</td>\n",
       "      <td>22</td>\n",
       "    </tr>\n",
       "    <tr>\n",
       "      <td>1</td>\n",
       "      <td>Cyclafem 1 / 35</td>\n",
       "      <td>Birth Control</td>\n",
       "      <td>\"I have been on this birth control for one cyc...</td>\n",
       "      <td>9</td>\n",
       "      <td>22-Oct-15</td>\n",
       "      <td>4</td>\n",
       "    </tr>\n",
       "    <tr>\n",
       "      <td>2</td>\n",
       "      <td>Copper</td>\n",
       "      <td>Birth Control</td>\n",
       "      <td>\"Ive had the copper coil for about 3 months no...</td>\n",
       "      <td>6</td>\n",
       "      <td>6-Jun-16</td>\n",
       "      <td>1</td>\n",
       "    </tr>\n",
       "    <tr>\n",
       "      <td>3</td>\n",
       "      <td>Levora</td>\n",
       "      <td>Birth Control</td>\n",
       "      <td>\"I was on this pill for almost two years. It d...</td>\n",
       "      <td>2</td>\n",
       "      <td>16-Apr-11</td>\n",
       "      <td>3</td>\n",
       "    </tr>\n",
       "    <tr>\n",
       "      <td>4</td>\n",
       "      <td>Microgestin Fe 1 / 20</td>\n",
       "      <td>Acne</td>\n",
       "      <td>\"So I was on Ginanvi for about 3 months before...</td>\n",
       "      <td>3</td>\n",
       "      <td>22-Jun-17</td>\n",
       "      <td>1</td>\n",
       "    </tr>\n",
       "    <tr>\n",
       "      <td>5</td>\n",
       "      <td>Blisovi Fe 1 / 20</td>\n",
       "      <td>Birth Control</td>\n",
       "      <td>\"I absolutely love this product and recommend ...</td>\n",
       "      <td>10</td>\n",
       "      <td>3-Nov-17</td>\n",
       "      <td>4</td>\n",
       "    </tr>\n",
       "    <tr>\n",
       "      <td>6</td>\n",
       "      <td>Duloxetine</td>\n",
       "      <td>Pain</td>\n",
       "      <td>\"Been on 30mg Cymbalta for 2 weeks. Started ge...</td>\n",
       "      <td>9</td>\n",
       "      <td>27-Mar-12</td>\n",
       "      <td>32</td>\n",
       "    </tr>\n",
       "    <tr>\n",
       "      <td>7</td>\n",
       "      <td>NuvaRing</td>\n",
       "      <td>Birth Control</td>\n",
       "      <td>\"I was on this for 5 years (and birth control ...</td>\n",
       "      <td>7</td>\n",
       "      <td>17-Jun-11</td>\n",
       "      <td>0</td>\n",
       "    </tr>\n",
       "    <tr>\n",
       "      <td>8</td>\n",
       "      <td>Escitalopram</td>\n",
       "      <td>Depression</td>\n",
       "      <td>\"I am a 22 year old female college student. I ...</td>\n",
       "      <td>9</td>\n",
       "      <td>29-Apr-14</td>\n",
       "      <td>32</td>\n",
       "    </tr>\n",
       "    <tr>\n",
       "      <td>9</td>\n",
       "      <td>Aubra</td>\n",
       "      <td>Birth Control</td>\n",
       "      <td>\"Im absolutely DONE taking this horrible birth...</td>\n",
       "      <td>1</td>\n",
       "      <td>13-Dec-15</td>\n",
       "      <td>6</td>\n",
       "    </tr>\n",
       "  </tbody>\n",
       "</table>\n",
       "</div>"
      ],
      "text/plain": [
       "                drugName      condition  \\\n",
       "0            Mirtazapine     Depression   \n",
       "1        Cyclafem 1 / 35  Birth Control   \n",
       "2                 Copper  Birth Control   \n",
       "3                 Levora  Birth Control   \n",
       "4  Microgestin Fe 1 / 20           Acne   \n",
       "5      Blisovi Fe 1 / 20  Birth Control   \n",
       "6             Duloxetine           Pain   \n",
       "7               NuvaRing  Birth Control   \n",
       "8           Escitalopram     Depression   \n",
       "9                  Aubra  Birth Control   \n",
       "\n",
       "                                              review  rating       date  \\\n",
       "0  \"Ive tried a few antidepressants over the year...      10  28-Feb-12   \n",
       "1  \"I have been on this birth control for one cyc...       9  22-Oct-15   \n",
       "2  \"Ive had the copper coil for about 3 months no...       6   6-Jun-16   \n",
       "3  \"I was on this pill for almost two years. It d...       2  16-Apr-11   \n",
       "4  \"So I was on Ginanvi for about 3 months before...       3  22-Jun-17   \n",
       "5  \"I absolutely love this product and recommend ...      10   3-Nov-17   \n",
       "6  \"Been on 30mg Cymbalta for 2 weeks. Started ge...       9  27-Mar-12   \n",
       "7  \"I was on this for 5 years (and birth control ...       7  17-Jun-11   \n",
       "8  \"I am a 22 year old female college student. I ...       9  29-Apr-14   \n",
       "9  \"Im absolutely DONE taking this horrible birth...       1  13-Dec-15   \n",
       "\n",
       "   usefulCount  \n",
       "0           22  \n",
       "1            4  \n",
       "2            1  \n",
       "3            3  \n",
       "4            1  \n",
       "5            4  \n",
       "6           32  \n",
       "7            0  \n",
       "8           32  \n",
       "9            6  "
      ]
     },
     "execution_count": 14,
     "metadata": {},
     "output_type": "execute_result"
    }
   ],
   "source": [
    "#Extract the rows with the top 5 conditions\n",
    "\n",
    "final_df=df[df['condition'].apply(lambda x:True if x in top_5_condt.index else False)]\n",
    "final_df.reset_index(drop=True,inplace=True)\n",
    "\n",
    "#Display the first 10 rows\n",
    "final_df.head(10)"
   ]
  },
  {
   "cell_type": "code",
   "execution_count": 15,
   "metadata": {},
   "outputs": [
    {
     "name": "stdout",
     "output_type": "stream",
     "text": [
      "<class 'pandas.core.frame.DataFrame'>\n",
      "RangeIndex: 18598 entries, 0 to 18597\n",
      "Data columns (total 6 columns):\n",
      "drugName       18598 non-null object\n",
      "condition      18598 non-null object\n",
      "review         18598 non-null object\n",
      "rating         18598 non-null int64\n",
      "date           18598 non-null object\n",
      "usefulCount    18598 non-null int64\n",
      "dtypes: int64(2), object(4)\n",
      "memory usage: 871.9+ KB\n"
     ]
    }
   ],
   "source": [
    "final_df.info()"
   ]
  },
  {
   "cell_type": "code",
   "execution_count": 16,
   "metadata": {},
   "outputs": [
    {
     "name": "stdout",
     "output_type": "stream",
     "text": [
      "Rare conditions are: \n",
      "\n",
      "Gastroenteritis\n",
      "Cutaneous Candidiasis\n",
      "Lyme Disease\n",
      "Paranoid Disorde\n",
      "Seborrheic Dermatitis\n",
      "Anemia\n",
      "Eye Redness/Itching\n",
      "Vulvodynia\n",
      "Extrapyramidal Reaction\n",
      "Macular Degeneration\n",
      "Temporomandibular Joint Disorde\n",
      "Postural Orthostatic Tachycardia Syndrome\n",
      "Herpes Zoste\n",
      "Inflammatory Bowel Disease\n",
      "Glaucoma\n",
      "Gouty Arthritis\n",
      "Mitral Valve Prolapse\n",
      "Angina Pectoris Prophylaxis\n",
      "Tinea Cruris\n",
      "Hypoestrogenism\n",
      "Intraocular Hypertension\n",
      "Photoaging of the Skin\n",
      "Uveitis\n",
      "Ischemic Stroke, Prophylaxis\n",
      "Postoperative Ocular Inflammation\n",
      "Methicillin-Resistant Staphylococcus Aureus Infection\n",
      "Actinic Keratosis\n",
      "Insulin Resistance Syndrome\n",
      "Clostridial Infection\n",
      "Tinnitus\n",
      "Nocturnal Leg Cramps\n",
      "Juvenile Rheumatoid Arthritis\n",
      "Meniere's Disease\n",
      "Agitated State\n",
      "Anemia Associated with Chronic Renal Failure\n",
      "Xerostomia\n",
      "Atrial Flutte\n",
      "min / sitagliptin)\n",
      "Human Papillomavirus Prophylaxis\n",
      "Hepatic Encephalopathy\n",
      "Ovulation Induction\n",
      "Duodenal Ulce\n",
      "Hereditary Angioedema\n",
      "Idiopathic Thrombocytopenic Purpura\n",
      "Surgical Prophylaxis\n",
      "Malaria\n",
      "Onychomycosis, Fingernail\n",
      "Nightmares\n",
      "Hepatitis B\n",
      "Pancreatic Exocrine Dysfunction\n",
      "zen Shoulde\n",
      "Bronchospasm Prophylaxis\n",
      "Left Ventricular Dysfunction\n",
      "Gas\n",
      "Premenstrual Syndrome\n",
      "Benzodiazepine Withdrawal\n",
      "moterol / mometasone)\n",
      "Diabetes Insipidus\n",
      "Giardiasis\n",
      "Cystic Fibrosis\n",
      "Pseudobulbar Affect\n",
      "Swine Flu\n",
      "Conjunctivitis\n",
      "Asperger Syndrome\n",
      "Undifferentiated Connective Tissue Disease\n",
      "Juvenile Idiopathic Arthritis\n",
      "Vitamin/Mineral Supplementation and Deficiency\n",
      "Diagnosis and Investigation\n",
      "ge (amlodipine / valsartan)\n",
      "Tinea Corporis\n",
      "Myelodysplastic Syndrome\n",
      "Precocious Puberty\n",
      "Breast Cancer, Adjuvant\n",
      "Hiccups\n",
      "Herpes Simplex, Mucocutaneous/Immunocompetent Host\n",
      "TSH Suppression\n",
      "Allergic Urticaria\n",
      "Dermatologic Lesion\n",
      "Autoimmune Hepatitis\n",
      "Pinworm Infection (Enterobius vermicularis)\n",
      "Agitation\n",
      "Night Terrors\n",
      "Nausea/Vomiting, Postoperative\n",
      "Vitamin D Deficiency\n",
      "Deep Vein Thrombosis, Prophylaxis\n",
      "Diaper Rash\n",
      "Hyperlipoproteinemia Type IIa, Elevated LDL\n",
      "Nasal Polyps\n",
      "Opioid Overdose\n",
      "Cyclic Vomiting Syndrome\n",
      "Non-Hodgkin's Lymphoma\n",
      "Vitamin B12 Deficiency\n",
      "Chronic Pancreatitis\n",
      "Hyperphosphatemia of Renal Failure\n",
      "Noninfectious Colitis\n",
      "Dysautonomia\n",
      "Infection Prophylaxis\n",
      "Labor Induction\n",
      "Burning Mouth Syndrome\n",
      "COPD, Acute\n",
      "Mucositis\n",
      "Labor Pain\n",
      "Peptic Ulce\n",
      "Influenza Prophylaxis\n",
      "Condylomata Acuminata\n",
      "Dyspareunia\n",
      "Diabetic Kidney Disease\n",
      "Anal Fissure and Fistula\n",
      "Biliary Cirrhosis\n",
      "Gingivitis\n",
      "Herbal Supplementation\n",
      "Lennox-Gastaut Syndrome\n",
      "Breast Cancer, Prevention\n",
      "Anemia, Sickle Cell\n",
      "Lyme Disease, Neurologic\n",
      "Osteolytic Bone Lesions of Multiple Myeloma\n",
      "Mountain Sickness / Altitude Sickness\n",
      "Dystonia\n",
      "Bone infection\n",
      "Hypotension\n",
      "Sarcoidosis\n",
      "Anal Itching\n",
      "Spondyloarthritis\n",
      "Diarrhea, Acute\n",
      "eve\n",
      "Primary Ovarian Failure\n",
      "Pelvic Inflammatory Disease\n",
      "Ventricular Tachycardia\n",
      "Pe\n",
      "Pediatric Growth Hormone Deficiency\n",
      "Gastrointestinal Decontamination\n",
      "Auditory Processing Disorde\n",
      "Bullous Pemphigoid\n",
      "llicle Stimulation\n",
      "min / saxagliptin)\n",
      "Skin Disinfection, Preoperative\n",
      "Occipital Neuralgia\n",
      "Oral Thrush\n",
      "Mycobacterium avium-intracellulare, Treatment\n",
      "Computed Tomography\n",
      "Thyroid Cance\n",
      "Skin Cance\n",
      "Gastrointestinal Stromal Tum\n",
      "Reversal of Opioid Sedation\n",
      "Atrophic Urethritis\n",
      "Lactation Augmentation\n",
      "Menopausal Disorders\n",
      "Deep Vein Thrombosis Prophylaxis after Hip Replacement Surgery\n",
      "Percutaneous Coronary Intervention\n",
      "Intermittent Claudication\n",
      "Gastric Ulcer Maintenance Treatment\n",
      "Impetig\n",
      "Gastritis/Duodenitis\n",
      "Endometrial Cance\n",
      "Persistent Depressive Disorde\n",
      "Aplastic Anemia\n",
      "Women (oxybutynin)\n",
      "Hidradenitis Suppurativa\n",
      "Seasonal Affective Disorde\n",
      "lic Acid Deficiency\n",
      "Aphthous Ulce\n",
      "Perioral Dermatitis\n",
      "Bursitis\n",
      "Endometrial Hyperplasia\n",
      "Multiple Myeloma\n",
      "Lymphoma\n",
      "Hypomagnesemia\n",
      "Primary Nocturnal Enuresis\n",
      "Dietary Fiber Supplementation\n",
      "Lipodystrophy\n",
      "Skin Rash\n",
      "Local Anesthesia\n",
      "Secondary Hyperparathyroidism\n",
      "Hypocalcemia\n",
      "Diabetic Macular Edema\n",
      "Amebiasis\n",
      "Deep Neck Infection\n",
      "Iritis\n",
      "Mild Cognitive Impairment\n",
      "Oophorectomy\n",
      "Ulcerative Proctitis\n",
      "Prevention of Cardiovascular Disease\n",
      "Osteolytic Bone Metastases of Solid Tumors\n",
      "NSAID-Induced Gastric Ulce\n",
      "High Cholesterol, Familial Homozygous\n",
      "mulation) (phenylephrine)\n",
      "Eyelash Hypotrichosis\n",
      "Rhinorrhea\n",
      "Hyperthyroidism\n",
      "Ophthalmic Surgery\n",
      "Lichen Planus\n",
      "von Willebrand's Disease\n",
      "Peritonitis\n",
      "Bacterial Endocarditis Prevention\n",
      "Ear Wax Impaction\n",
      "Macular Edema\n",
      "Tuberculosis, Latent\n",
      "Melanoma, Metastatic\n",
      "Progesterone Insufficiency\n",
      "Insomnia, Stimulant-Associated\n",
      "Adrenocortical Insufficiency\n",
      "Dercum's Disease\n",
      "Pharyngitis\n",
      "Systemic Mastocytosis\n",
      "Thromboembolic Stroke Prophylaxis\n",
      "Traveler's Diarrhea\n",
      "Gallbladder Disease\n",
      "Lymphocytic Colitis\n",
      "Liver Magnetic Resonance Imaging\n",
      "Mantle Cell Lymphoma\n",
      "Scabies\n",
      "Breast Cancer, Palliative\n",
      "Deep Vein Thrombosis, First Event\n",
      "Uterine Bleeding\n",
      "Chronic Myofascial Pain\n",
      "Bleeding Disorde\n",
      "Trichotillomania\n",
      "Submental Fullness\n",
      "Bacteremia\n",
      "Colorectal Cance\n",
      "Gastrointestinal Hemorrhage\n",
      "Hypoparathyroidism\n",
      "Cance\n",
      "Hepatocellular Carcinoma\n",
      "Pupillary Dilation\n",
      "New Daily Persistent Headache\n",
      "Salmonella Gastroenteritis\n",
      "AIDS Related Wasting\n",
      "Varicella-Zoste\n",
      "Dumping Syndrome\n",
      "Lichen Sclerosus\n",
      "Acute Otitis Externa\n",
      "Polymyositis/Dermatomyositis\n",
      "Ventricular Fibrillation\n",
      "Behcet's Disease\n",
      "Platelet Aggregation Inhibition\n",
      "Performance Anxiety\n",
      "Cataplexy\n",
      "Hyperekplexia\n",
      "Periodontitis\n",
      "Schnitzler Syndrome\n",
      "Oligospermia\n",
      "Mycoplasma Pneumonia\n",
      "Antiphospholipid Syndrome\n",
      "Thrombocythemia\n",
      "Prevention of Dental Caries\n",
      "Addison's Disease\n",
      "Alpha-1 Proteinase Inhibitor Deficiency\n",
      "Abortion\n",
      "Chronic Spasticity\n",
      "Expectoration\n",
      "Hypercalcemia of Malignancy\n",
      "Intraabdominal Infection\n",
      "Deep Vein Thrombosis, Recurrent Event\n",
      "Warts\n",
      "Gonococcal Infection, Uncomplicated\n",
      "Hyperlipoproteinemia\n",
      "Systemic Sclerosis\n",
      "Streptococcal Infection\n",
      "Post-Cholecystectomy Diarrhea\n",
      "ICU Agitation\n",
      "Dandruff\n",
      "Cerebral Spasticity\n",
      "Ischemic Stroke\n",
      "Glioblastoma Multiforme\n",
      "Renal Tubular Acidosis\n",
      "Neck Pain\n",
      "m Pain Disorde\n",
      "Corneal Refractive Surgery\n",
      "Occupational Exposure\n",
      "Pulmonary Embolism, First Event\n",
      "Acute Lymphoblastic Leukemia\n",
      "Costochondritis\n",
      "Paget's Disease\n",
      "Opiate Adjunct\n",
      "Still's Disease\n",
      "Lactose Intolerance\n",
      "Premature Ventricular Depolarizations\n",
      "Meningococcal Meningitis Prophylaxis\n",
      "Pancreatic Cance\n",
      "Body Dysmorphic Disorde\n",
      "Uveitis, Posteri\n",
      "Coronary Artery Disease\n",
      "Topical Disinfection\n",
      "Dissociative Identity Disorde\n",
      "Pain/Feve\n",
      "Gender Dysphoria\n",
      "Hyperphosphatemia\n",
      "Organ Transplant, Rejection Reversal\n",
      "Hypokalemic Periodic Paralysis\n",
      "Cyclothymic Disorde\n",
      "Herpes Zoster, Prophylaxis\n",
      "Hemorrhoids (pramoxine / zinc oxide)\n",
      "Pertussis\n",
      "Jet Lag\n",
      "Nausea (phosphorated carbohydrate solution)\n",
      "Cachexia\n",
      "Primary Hyperaldosteronism\n",
      "Hypoactive Sexual Desire Disorde\n",
      "Epididymitis, Sexually Transmitted\n",
      "Prevention of Hypokalemia\n",
      "Pudendal Neuralgia\n",
      "Oppositional Defiant Disorde\n",
      "Head Injury\n",
      "Subarachnoid Hemorrhage\n",
      "actor IX Deficiency\n",
      "Strabismus\n",
      "Pemphigus\n",
      "Head and Neck Cance\n",
      "Coccidioidomycosis\n",
      "Stomach Cance\n",
      "Ovarian Cance\n",
      "Esophageal Variceal Hemorrhage Prophylaxis\n",
      "Upper Limb Spasticity\n",
      "Pityriasis rubra pilaris\n",
      "Aspergillosis, Aspergilloma\n",
      "Joint Infection\n",
      "me\n",
      "Myeloproliferative Disorders\n",
      "Cutaneous T-cell Lymphoma\n",
      "Syringomyelia\n",
      "Myotonia Congenita\n",
      "Squamous Cell Carcinoma\n",
      "mist (\n",
      "Sunburn\n",
      "Histoplasmosis\n",
      "Nonoccupational Exposure\n",
      "Mixed Connective Tissue Disease\n",
      "cal Segmental Glomerulosclerosis\n",
      "Acute Promyelocytic Leukemia\n",
      "Wegener's Granulomatosis\n",
      "Hemophilia A\n",
      "Thyrotoxicosis\n",
      "Dermatophytosis\n",
      "Blepharitis\n",
      "Strongyloidiasis\n",
      "Polycythemia Vera\n",
      "Dermatomyositis\n",
      "Acetaminophen Overdose\n",
      "amilial Cold Autoinflammatory Syndrome\n",
      "Somat\n",
      "Herpes Simplex, Mucocutaneous/Immunocompromised Host\n",
      "Cyclitis\n",
      "Postoperative Increased Intraocular Pressure\n",
      "Hypodermoclysis\n",
      "Pemphigoid\n",
      "Immunosuppression\n",
      "Dupuytren's contracture\n",
      "Spondylolisthesis\n",
      "Nasal Carriage of Staphylococcus aureus\n",
      "Hemophilia B\n",
      "CMV Prophylaxis\n",
      "tic (mycophenolic acid)\n",
      "Sore Throat\n",
      "Ventricular Arrhythmia\n",
      "Glioblastoma Multi\n",
      "Adult Human Growth Hormone Deficiency\n",
      "Nephrotic Syndrome\n",
      "Cerebral Edema\n",
      "Dementia\n",
      "Pre-Exposure Prophylaxis\n",
      "Wolff-Parkinson-White Syndrome\n",
      "Hypertensive Emergency\n",
      "Rat-bite Feve\n",
      "Tympanostomy Tube Placement Surgery\n",
      "Parkinsonism\n",
      "Urinary Retention\n",
      "Eosinophilic Esophagitis\n",
      "ibrocystic Breast Disease\n",
      "Status Epilepticus\n",
      "Zollinger-Ellison Syndrome\n",
      "Pulmonary Edema\n",
      "Anthrax\n",
      "Schilling Test\n",
      "Yellow Fever Prophylaxis\n",
      "Ichthyosis\n",
      "acial Lipoatrophy\n",
      "Neutropenia\n",
      "Herpes Simplex Dendritic Keratitis\n",
      "Hyperkalemia\n",
      "Pertussis Prophylaxis\n",
      "Steroid Responsive Inflammatory Conditions\n",
      "Enterocolitis\n",
      "Giant Cell Tumor of Bone\n",
      "Small Bowel or Pancreatic Fistula\n",
      "B12 Nutritional Deficiency\n",
      "Gonadotropin Inhibition\n",
      "Ehrlichiosis\n",
      "Melanoma\n",
      "Radionuclide Myocardial Perfusion Study\n",
      "Myelofibrosis\n",
      "Mononucleosis\n",
      "Anaplastic Astrocytoma\n",
      "Peripheral Arterial Disease\n",
      "Lyme Disease, Erythema Chronicum Migrans\n",
      "Leukemia\n",
      "Keratitis\n",
      "Oral and Dental Conditions\n",
      "Stress Ulcer Prophylaxis\n",
      "Transient Ischemic Attack\n",
      "Acute Nonlymphocytic Leukemia\n",
      "Autoimmune Hemolytic Anemia\n",
      "Anemia, Chemotherapy Induced\n",
      "Reversal of Nondepolarizing Muscle Relaxants\n",
      "Chronic Inflammatory Demyelinating Polyradiculoneuropathy\n",
      "Premature Ejaculation\n"
     ]
    }
   ],
   "source": [
    "#Rare conditions: Conditions which have been mentioned less than 5 times\n",
    "\n",
    "print(\"Rare conditions are: \\n\")\n",
    "conditions=df['condition'].value_counts()\n",
    "for i in conditions[conditions<=10].index:\n",
    "    print(i)"
   ]
  },
  {
   "cell_type": "code",
   "execution_count": 17,
   "metadata": {},
   "outputs": [
    {
     "name": "stdout",
     "output_type": "stream",
     "text": [
      "\"Ive been on Zoloft 50mg for over two years. I am a more relaxed and easy-going person because of Zoloft.  Prior to starting the medicine, I was anxious all the time, worried constantly about everything, and suffered periods of depression and hopelessness.  Now I am a better wife, friend, and person in general.\"\n"
     ]
    }
   ],
   "source": [
    "#Display the review which received the highest number of usefulcount\n",
    "\n",
    "usefulcounts=df['usefulCount'].values #Convert 'usefulCount' into a ndarray\n",
    "\n",
    "df.loc[df.usefulCount==np.max(usefulcounts)]\n",
    "print(df.loc[df.usefulCount==np.max(usefulcounts)]['review'].iloc[0])"
   ]
  },
  {
   "cell_type": "code",
   "execution_count": 18,
   "metadata": {},
   "outputs": [],
   "source": [
    "#Converting the dates to the datetime format\n",
    "pd.options.mode.chained_assignment = None #default:warn\n",
    "final_df['date']=pd.to_datetime(final_df['date'])\n",
    "\n",
    "#Creating a column for 'year'\n",
    "years = final_df['date'].dt.year\n",
    "final_df['year'] = years\n",
    "\n",
    "#Find the number of reviews per year for each condition\n",
    "cond_values=final_df.groupby('condition')['year'].value_counts()\n",
    "cond_values.sort_index(inplace=True)"
   ]
  },
  {
   "cell_type": "code",
   "execution_count": 19,
   "metadata": {},
   "outputs": [],
   "source": [
    "#Setting up the rc values\n",
    "\n",
    "plt.rcParams['figure.figsize']=[13,8]\n",
    "sns.set_style('whitegrid')\n",
    "sns.set_context(\"talk\",rc={'axes.labelsize':'20','axes.titlesize':'25','xtick.labelsize':15,'ytick.labelsize':15,\n",
    "                           'axes.grid':True})"
   ]
  },
  {
   "cell_type": "code",
   "execution_count": 20,
   "metadata": {},
   "outputs": [
    {
     "data": {
      "image/png": "[encoded data removed]",
      "text/plain": [
       "<Figure size 936x576 with 1 Axes>"
      ]
     },
     "metadata": {},
     "output_type": "display_data"
    }
   ],
   "source": [
    "#Plotting the no.of reviews per year for the top 5 conditions\n",
    "\n",
    "#It can be observed from the graph that the number of reviews for Birth Control drugs increased tremendously after \n",
    "#2014.\n",
    "\n",
    "x=[i for i in range(0,10)]\n",
    "fig,ax=plt.subplots()\n",
    "colors=['#FF7923','#E80C7A','#1B7617','#7F1D7B','#1D3D76']\n",
    "markers=['o','s','D','^','*']\n",
    "\n",
    "for (cond,value),c,m in zip(cond_values.groupby(level=0),colors,markers):\n",
    "    ax.plot(x,value,color=c,alpha=0.7,marker=m)\n",
    "plt.ylim(0,2600)\n",
    "plt.xticks(x,cond_values.index.get_level_values(1))\n",
    "ax.set_title(\"No. of Reviews vs Year\")\n",
    "ax.set_xlabel(\"Year\")\n",
    "ax.set_ylabel(\"No.of reviews\")\n",
    "ax.legend(cond_values.index.get_level_values(0).unique(),fontsize=14,loc='upper left')\n",
    "plt.show()"
   ]
  },
  {
   "cell_type": "code",
   "execution_count": 21,
   "metadata": {},
   "outputs": [
    {
     "data": {
      "image/png": "[encoded data removed]",
      "text/plain": [
       "<Figure size 936x576 with 1 Axes>"
      ]
     },
     "metadata": {},
     "output_type": "display_data"
    }
   ],
   "source": [
    "#Change in the average ratings of the popular drug 'Xanax'\n",
    "\n",
    "drug=final_df[(final_df.drugName=='Xanax')&(final_df.condition=='Anxiety')][['year','rating']].groupby('year').mean()\n",
    "sns.lineplot(drug['rating'].index,drug['rating'],linewidth = 5,marker = 'D',markersize = 10)\n",
    "\n",
    "plt.title(\"Average ratings vs Year : 'Xanax'\")\n",
    "plt.show()"
   ]
  },
  {
   "cell_type": "code",
   "execution_count": 22,
   "metadata": {},
   "outputs": [
    {
     "data": {
      "image/png": "[encoded data removed]",
      "text/plain": [
       "<Figure size 936x576 with 1 Axes>"
      ]
     },
     "metadata": {},
     "output_type": "display_data"
    }
   ],
   "source": [
    "#Display the top 10 conditions\n",
    "\n",
    "conditions = df['condition'].value_counts().nlargest(10)\n",
    "\n",
    "g = sns.barplot(conditions.index,conditions,palette = \"BuGn_r\")\n",
    "g.set_xticklabels(g.get_xticklabels(),rotation = 90)\n",
    "\n",
    "\n",
    "plt.show()"
   ]
  },
  {
   "cell_type": "code",
   "execution_count": 23,
   "metadata": {},
   "outputs": [
    {
     "data": {
      "image/png": "[encoded data removed]",
      "text/plain": [
       "<Figure size 936x576 with 1 Axes>"
      ]
     },
     "metadata": {},
     "output_type": "display_data"
    }
   ],
   "source": [
    "#Drugs with the most number of reviews\n",
    "\n",
    "top_reviewed_drugs=final_df['drugName'].value_counts().nlargest(10)\n",
    "\n",
    "sns.barplot(top_reviewed_drugs,top_reviewed_drugs.index,orient = \"h\",palette = \"Blues_r\",)\n",
    "plt.title(\"Drugs with the most number of reviews\")\n",
    "plt.show()"
   ]
  },
  {
   "cell_type": "code",
   "execution_count": 24,
   "metadata": {},
   "outputs": [
    {
     "data": {
      "image/png": "[encoded data removed]",
      "text/plain": [
       "<Figure size 936x576 with 1 Axes>"
      ]
     },
     "metadata": {},
     "output_type": "display_data"
    }
   ],
   "source": [
    "#Scatter plot of 'Ratings' and 'Usefulcounts'\n",
    "\n",
    "x=final_df['rating'].values\n",
    "y=final_df['usefulCount'].values\n",
    "\n",
    "plt.scatter(y,x,color='#53A385')\n",
    "plt.title(\"Rating of drugs vs Useful Count of reviews\")\n",
    "plt.xlabel(\"Useful count of the review\")\n",
    "plt.ylabel(\"Rating of Drugs\")\n",
    "plt.show()"
   ]
  },
  {
   "cell_type": "code",
   "execution_count": 25,
   "metadata": {},
   "outputs": [],
   "source": [
    "entries_count = {}\n",
    "\n",
    "for i in range(10):\n",
    "    entries_count[i+1] = len(final_df[final_df['rating']==(i+1)])"
   ]
  },
  {
   "cell_type": "code",
   "execution_count": 26,
   "metadata": {},
   "outputs": [
    {
     "data": {
      "image/png": "[encoded data removed]",
      "text/plain": [
       "<Figure size 936x576 with 1 Axes>"
      ]
     },
     "metadata": {},
     "output_type": "display_data"
    }
   ],
   "source": [
    "sns.barplot(list(entries_count.keys()),list(entries_count.values()),palette = \"RdBu\")\n",
    "plt.title(\"Display of imbalance between the no. of entries for each rating\")\n",
    "plt.xlabel(\"Ratings/Classes\")\n",
    "plt.ylabel(\"No. of entries in the data\")\n",
    "plt.show()"
   ]
  },
  {
   "cell_type": "markdown",
   "metadata": {},
   "source": [
    "After studying some of the reviews, I thought that the classes could be divided into the following manner:\n",
    "-Combine rating 10 and 9 to form class 3 (Positive)\n",
    "-Combine rating 8 and 7 to form class 2 (Mostly positive)\n",
    "-Combine rating 4, 5 and 6 to form class 1 (Mostly negative)\n",
    "-Combine rating 1,2 and 3 to form class 0 (Negative)\n",
    "\n",
    "However, due to the imbalance in the classes, I decided to proceed in the following manner:\n",
    "-Combine rating 1, 2 and 3 to form class 0(negative)\n",
    "-Rating 10 forms class 1(positive)\n",
    "\n",
    "This presents a well balanced classification problem. In the future, I would like to experiment with SMOTE and other techniques to solve the class imbalance problem."
   ]
  },
  {
   "cell_type": "markdown",
   "metadata": {},
   "source": [
    "# Significant drugs with the best and worst ratings"
   ]
  },
  {
   "cell_type": "markdown",
   "metadata": {},
   "source": [
    "#### A significant number of reviews is when the number of a reviews for a drug is in the 80% quantile of the total number of reviews for a particular condition\n"
   ]
  },
  {
   "cell_type": "code",
   "execution_count": 27,
   "metadata": {},
   "outputs": [],
   "source": [
    "#Find the significant drugs based on the reviews:\n",
    "\n",
    "#A significant number of reviews is when the number of a reviews for a drug is in the 80% quantile of the total \n",
    "#number of reviews for a particular condition\n",
    "\n",
    "#Define a function that uses quantiles to filter the reviews.\n",
    "def quantile_group(df,value=0.80):\n",
    "    quantile_value = df.quantile(value)\n",
    "    return df[df>=quantile_value]\n",
    "\n",
    "#Find the number of times each drug is reviewed\n",
    "f=final_df.groupby('condition')['drugName'].value_counts()\n",
    "\n",
    "#Apply quantile_group() to filter the drugs with most number of reviews\n",
    "significant_drugs=f.groupby(level=0,group_keys=False).apply(quantile_group)\n",
    "\n",
    "#Convert the resulting series into a dataframe\n",
    "s=pd.DataFrame({'No.of reviews':significant_drugs.values,\n",
    "              'drugName':significant_drugs.index.get_level_values(1),\n",
    "              'condition':significant_drugs.index.get_level_values(0)})\n",
    "p=pd.merge(s,final_df,how='inner',left_on=['condition','drugName'],right_on=['condition','drugName'])\n",
    "\n",
    "#Find the average ratings for these drugs\n",
    "m=p.groupby(['condition','drugName']).agg({'rating':np.mean,'No.of reviews':'first',})\n",
    "\n",
    "#Find the top 10 significant \"best\" and \"worst\" drugs for each condition\n",
    "sig_best=m.groupby(level=0,group_keys=False).apply(lambda x : x.nlargest(5,'rating'))\n",
    "sig_worst=m.groupby(level=0,group_keys=False).apply(lambda x : x.nsmallest(5,'rating'))"
   ]
  },
  {
   "cell_type": "code",
   "execution_count": 28,
   "metadata": {},
   "outputs": [
    {
     "data": {
      "text/html": [
       "<div>\n",
       "<style scoped>\n",
       "    .dataframe tbody tr th:only-of-type {\n",
       "        vertical-align: middle;\n",
       "    }\n",
       "\n",
       "    .dataframe tbody tr th {\n",
       "        vertical-align: top;\n",
       "    }\n",
       "\n",
       "    .dataframe thead th {\n",
       "        text-align: right;\n",
       "    }\n",
       "</style>\n",
       "<table border=\"1\" class=\"dataframe\">\n",
       "  <thead>\n",
       "    <tr style=\"text-align: right;\">\n",
       "      <th></th>\n",
       "      <th></th>\n",
       "      <th>rating</th>\n",
       "      <th>No.of reviews</th>\n",
       "    </tr>\n",
       "    <tr>\n",
       "      <th>condition</th>\n",
       "      <th>drugName</th>\n",
       "      <th></th>\n",
       "      <th></th>\n",
       "    </tr>\n",
       "  </thead>\n",
       "  <tbody>\n",
       "    <tr>\n",
       "      <td rowspan=\"5\" valign=\"top\">Acne</td>\n",
       "      <td>Benzoyl peroxide / clindamycin</td>\n",
       "      <td>8.425532</td>\n",
       "      <td>94</td>\n",
       "    </tr>\n",
       "    <tr>\n",
       "      <td>Accutane</td>\n",
       "      <td>8.390909</td>\n",
       "      <td>110</td>\n",
       "    </tr>\n",
       "    <tr>\n",
       "      <td>Isotretinoin</td>\n",
       "      <td>8.266667</td>\n",
       "      <td>165</td>\n",
       "    </tr>\n",
       "    <tr>\n",
       "      <td>Spironolactone</td>\n",
       "      <td>8.083333</td>\n",
       "      <td>60</td>\n",
       "    </tr>\n",
       "    <tr>\n",
       "      <td>Sulfamethoxazole / trimethoprim</td>\n",
       "      <td>8.062500</td>\n",
       "      <td>32</td>\n",
       "    </tr>\n",
       "    <tr>\n",
       "      <td rowspan=\"5\" valign=\"top\">Anxiety</td>\n",
       "      <td>Xanax</td>\n",
       "      <td>8.826087</td>\n",
       "      <td>92</td>\n",
       "    </tr>\n",
       "    <tr>\n",
       "      <td>Alprazolam</td>\n",
       "      <td>8.689394</td>\n",
       "      <td>132</td>\n",
       "    </tr>\n",
       "    <tr>\n",
       "      <td>Diazepam</td>\n",
       "      <td>8.490909</td>\n",
       "      <td>55</td>\n",
       "    </tr>\n",
       "    <tr>\n",
       "      <td>Clonazepam</td>\n",
       "      <td>8.426471</td>\n",
       "      <td>136</td>\n",
       "    </tr>\n",
       "    <tr>\n",
       "      <td>Klonopin</td>\n",
       "      <td>8.327273</td>\n",
       "      <td>55</td>\n",
       "    </tr>\n",
       "    <tr>\n",
       "      <td rowspan=\"5\" valign=\"top\">Birth Control</td>\n",
       "      <td>Ortho Evra</td>\n",
       "      <td>7.277778</td>\n",
       "      <td>72</td>\n",
       "    </tr>\n",
       "    <tr>\n",
       "      <td>Skyla</td>\n",
       "      <td>7.206349</td>\n",
       "      <td>252</td>\n",
       "    </tr>\n",
       "    <tr>\n",
       "      <td>Mirena</td>\n",
       "      <td>7.050704</td>\n",
       "      <td>355</td>\n",
       "    </tr>\n",
       "    <tr>\n",
       "      <td>Ethinyl estradiol / norelgestromin</td>\n",
       "      <td>7.037037</td>\n",
       "      <td>135</td>\n",
       "    </tr>\n",
       "    <tr>\n",
       "      <td>Levonorgestrel</td>\n",
       "      <td>6.976159</td>\n",
       "      <td>755</td>\n",
       "    </tr>\n",
       "    <tr>\n",
       "      <td rowspan=\"5\" valign=\"top\">Depression</td>\n",
       "      <td>Lexapro</td>\n",
       "      <td>8.098039</td>\n",
       "      <td>102</td>\n",
       "    </tr>\n",
       "    <tr>\n",
       "      <td>Mirtazapine</td>\n",
       "      <td>7.586667</td>\n",
       "      <td>75</td>\n",
       "    </tr>\n",
       "    <tr>\n",
       "      <td>Bupropion</td>\n",
       "      <td>7.464646</td>\n",
       "      <td>198</td>\n",
       "    </tr>\n",
       "    <tr>\n",
       "      <td>Celexa</td>\n",
       "      <td>7.410256</td>\n",
       "      <td>78</td>\n",
       "    </tr>\n",
       "    <tr>\n",
       "      <td>Escitalopram</td>\n",
       "      <td>7.407407</td>\n",
       "      <td>135</td>\n",
       "    </tr>\n",
       "    <tr>\n",
       "      <td rowspan=\"5\" valign=\"top\">Pain</td>\n",
       "      <td>Acetaminophen / oxycodone</td>\n",
       "      <td>8.938596</td>\n",
       "      <td>114</td>\n",
       "    </tr>\n",
       "    <tr>\n",
       "      <td>Methadone</td>\n",
       "      <td>8.871795</td>\n",
       "      <td>39</td>\n",
       "    </tr>\n",
       "    <tr>\n",
       "      <td>OxyContin</td>\n",
       "      <td>8.816327</td>\n",
       "      <td>49</td>\n",
       "    </tr>\n",
       "    <tr>\n",
       "      <td>Hydromorphone</td>\n",
       "      <td>8.803030</td>\n",
       "      <td>66</td>\n",
       "    </tr>\n",
       "    <tr>\n",
       "      <td>Lortab</td>\n",
       "      <td>8.800000</td>\n",
       "      <td>20</td>\n",
       "    </tr>\n",
       "  </tbody>\n",
       "</table>\n",
       "</div>"
      ],
      "text/plain": [
       "                                                    rating  No.of reviews\n",
       "condition     drugName                                                   \n",
       "Acne          Benzoyl peroxide / clindamycin      8.425532             94\n",
       "              Accutane                            8.390909            110\n",
       "              Isotretinoin                        8.266667            165\n",
       "              Spironolactone                      8.083333             60\n",
       "              Sulfamethoxazole / trimethoprim     8.062500             32\n",
       "Anxiety       Xanax                               8.826087             92\n",
       "              Alprazolam                          8.689394            132\n",
       "              Diazepam                            8.490909             55\n",
       "              Clonazepam                          8.426471            136\n",
       "              Klonopin                            8.327273             55\n",
       "Birth Control Ortho Evra                          7.277778             72\n",
       "              Skyla                               7.206349            252\n",
       "              Mirena                              7.050704            355\n",
       "              Ethinyl estradiol / norelgestromin  7.037037            135\n",
       "              Levonorgestrel                      6.976159            755\n",
       "Depression    Lexapro                             8.098039            102\n",
       "              Mirtazapine                         7.586667             75\n",
       "              Bupropion                           7.464646            198\n",
       "              Celexa                              7.410256             78\n",
       "              Escitalopram                        7.407407            135\n",
       "Pain          Acetaminophen / oxycodone           8.938596            114\n",
       "              Methadone                           8.871795             39\n",
       "              OxyContin                           8.816327             49\n",
       "              Hydromorphone                       8.803030             66\n",
       "              Lortab                              8.800000             20"
      ]
     },
     "execution_count": 28,
     "metadata": {},
     "output_type": "execute_result"
    }
   ],
   "source": [
    "#Top 5 significant drugs with the best rating, for the 5 conditions\n",
    "\n",
    "sig_best"
   ]
  },
  {
   "cell_type": "code",
   "execution_count": 29,
   "metadata": {},
   "outputs": [
    {
     "data": {
      "text/html": [
       "<div>\n",
       "<style scoped>\n",
       "    .dataframe tbody tr th:only-of-type {\n",
       "        vertical-align: middle;\n",
       "    }\n",
       "\n",
       "    .dataframe tbody tr th {\n",
       "        vertical-align: top;\n",
       "    }\n",
       "\n",
       "    .dataframe thead th {\n",
       "        text-align: right;\n",
       "    }\n",
       "</style>\n",
       "<table border=\"1\" class=\"dataframe\">\n",
       "  <thead>\n",
       "    <tr style=\"text-align: right;\">\n",
       "      <th></th>\n",
       "      <th></th>\n",
       "      <th>rating</th>\n",
       "      <th>No.of reviews</th>\n",
       "    </tr>\n",
       "    <tr>\n",
       "      <th>condition</th>\n",
       "      <th>drugName</th>\n",
       "      <th></th>\n",
       "      <th></th>\n",
       "    </tr>\n",
       "  </thead>\n",
       "  <tbody>\n",
       "    <tr>\n",
       "      <td rowspan=\"5\" valign=\"top\">Acne</td>\n",
       "      <td>Ethinyl estradiol / norethindrone</td>\n",
       "      <td>3.500000</td>\n",
       "      <td>40</td>\n",
       "    </tr>\n",
       "    <tr>\n",
       "      <td>Ethinyl estradiol / norgestimate</td>\n",
       "      <td>5.836364</td>\n",
       "      <td>55</td>\n",
       "    </tr>\n",
       "    <tr>\n",
       "      <td>Minocycline</td>\n",
       "      <td>6.188119</td>\n",
       "      <td>101</td>\n",
       "    </tr>\n",
       "    <tr>\n",
       "      <td>Adapalene</td>\n",
       "      <td>6.629032</td>\n",
       "      <td>62</td>\n",
       "    </tr>\n",
       "    <tr>\n",
       "      <td>Doxycycline</td>\n",
       "      <td>7.014388</td>\n",
       "      <td>139</td>\n",
       "    </tr>\n",
       "    <tr>\n",
       "      <td rowspan=\"5\" valign=\"top\">Anxiety</td>\n",
       "      <td>Hydroxyzine</td>\n",
       "      <td>6.074766</td>\n",
       "      <td>107</td>\n",
       "    </tr>\n",
       "    <tr>\n",
       "      <td>BuSpar</td>\n",
       "      <td>6.285714</td>\n",
       "      <td>70</td>\n",
       "    </tr>\n",
       "    <tr>\n",
       "      <td>Buspirone</td>\n",
       "      <td>6.824427</td>\n",
       "      <td>131</td>\n",
       "    </tr>\n",
       "    <tr>\n",
       "      <td>Duloxetine</td>\n",
       "      <td>7.183673</td>\n",
       "      <td>49</td>\n",
       "    </tr>\n",
       "    <tr>\n",
       "      <td>Escitalopram</td>\n",
       "      <td>7.605405</td>\n",
       "      <td>185</td>\n",
       "    </tr>\n",
       "    <tr>\n",
       "      <td rowspan=\"5\" valign=\"top\">Birth Control</td>\n",
       "      <td>Norethindrone</td>\n",
       "      <td>5.292929</td>\n",
       "      <td>99</td>\n",
       "    </tr>\n",
       "    <tr>\n",
       "      <td>Nexplanon</td>\n",
       "      <td>5.561308</td>\n",
       "      <td>734</td>\n",
       "    </tr>\n",
       "    <tr>\n",
       "      <td>Ethinyl estradiol / norethindrone</td>\n",
       "      <td>5.610215</td>\n",
       "      <td>744</td>\n",
       "    </tr>\n",
       "    <tr>\n",
       "      <td>Medroxyprogesterone</td>\n",
       "      <td>5.675325</td>\n",
       "      <td>154</td>\n",
       "    </tr>\n",
       "    <tr>\n",
       "      <td>Drospirenone / ethinyl estradiol</td>\n",
       "      <td>5.693252</td>\n",
       "      <td>163</td>\n",
       "    </tr>\n",
       "    <tr>\n",
       "      <td rowspan=\"5\" valign=\"top\">Depression</td>\n",
       "      <td>Effexor</td>\n",
       "      <td>5.600000</td>\n",
       "      <td>65</td>\n",
       "    </tr>\n",
       "    <tr>\n",
       "      <td>Viibryd</td>\n",
       "      <td>5.955357</td>\n",
       "      <td>112</td>\n",
       "    </tr>\n",
       "    <tr>\n",
       "      <td>Vortioxetine</td>\n",
       "      <td>6.097345</td>\n",
       "      <td>113</td>\n",
       "    </tr>\n",
       "    <tr>\n",
       "      <td>Duloxetine</td>\n",
       "      <td>6.311927</td>\n",
       "      <td>109</td>\n",
       "    </tr>\n",
       "    <tr>\n",
       "      <td>Venlafaxine</td>\n",
       "      <td>6.737226</td>\n",
       "      <td>137</td>\n",
       "    </tr>\n",
       "    <tr>\n",
       "      <td rowspan=\"5\" valign=\"top\">Pain</td>\n",
       "      <td>Tylenol with Codeine #3</td>\n",
       "      <td>4.148148</td>\n",
       "      <td>27</td>\n",
       "    </tr>\n",
       "    <tr>\n",
       "      <td>Hysingla ER</td>\n",
       "      <td>4.173913</td>\n",
       "      <td>23</td>\n",
       "    </tr>\n",
       "    <tr>\n",
       "      <td>Lidocaine</td>\n",
       "      <td>4.250000</td>\n",
       "      <td>24</td>\n",
       "    </tr>\n",
       "    <tr>\n",
       "      <td>Acetaminophen / codeine</td>\n",
       "      <td>4.666667</td>\n",
       "      <td>24</td>\n",
       "    </tr>\n",
       "    <tr>\n",
       "      <td>Nucynta</td>\n",
       "      <td>5.785714</td>\n",
       "      <td>42</td>\n",
       "    </tr>\n",
       "  </tbody>\n",
       "</table>\n",
       "</div>"
      ],
      "text/plain": [
       "                                                   rating  No.of reviews\n",
       "condition     drugName                                                  \n",
       "Acne          Ethinyl estradiol / norethindrone  3.500000             40\n",
       "              Ethinyl estradiol / norgestimate   5.836364             55\n",
       "              Minocycline                        6.188119            101\n",
       "              Adapalene                          6.629032             62\n",
       "              Doxycycline                        7.014388            139\n",
       "Anxiety       Hydroxyzine                        6.074766            107\n",
       "              BuSpar                             6.285714             70\n",
       "              Buspirone                          6.824427            131\n",
       "              Duloxetine                         7.183673             49\n",
       "              Escitalopram                       7.605405            185\n",
       "Birth Control Norethindrone                      5.292929             99\n",
       "              Nexplanon                          5.561308            734\n",
       "              Ethinyl estradiol / norethindrone  5.610215            744\n",
       "              Medroxyprogesterone                5.675325            154\n",
       "              Drospirenone / ethinyl estradiol   5.693252            163\n",
       "Depression    Effexor                            5.600000             65\n",
       "              Viibryd                            5.955357            112\n",
       "              Vortioxetine                       6.097345            113\n",
       "              Duloxetine                         6.311927            109\n",
       "              Venlafaxine                        6.737226            137\n",
       "Pain          Tylenol with Codeine #3            4.148148             27\n",
       "              Hysingla ER                        4.173913             23\n",
       "              Lidocaine                          4.250000             24\n",
       "              Acetaminophen / codeine            4.666667             24\n",
       "              Nucynta                            5.785714             42"
      ]
     },
     "execution_count": 29,
     "metadata": {},
     "output_type": "execute_result"
    }
   ],
   "source": [
    "#Top 5 significant drugs with the worst rating, for the 5 conditions\n",
    "\n",
    "sig_worst"
   ]
  },
  {
   "cell_type": "markdown",
   "metadata": {},
   "source": [
    "# Data preprocessing"
   ]
  },
  {
   "cell_type": "markdown",
   "metadata": {},
   "source": [
    "Data preprocessing steps included - \n",
    "1. Removing punctuation,stop words\n",
    "2. After studying some of the reviews, additional stop words were included.\n",
    "3. Case normalization\n",
    "4. Stemming\n",
    "5. Binary bag of words transformation of the sentences\n"
   ]
  },
  {
   "cell_type": "code",
   "execution_count": 30,
   "metadata": {},
   "outputs": [],
   "source": [
    "classes = {10:1,1:0,2:0,3:0}"
   ]
  },
  {
   "cell_type": "code",
   "execution_count": 31,
   "metadata": {},
   "outputs": [],
   "source": [
    "# #Perform binary classification to predict if a review is positive or negative\n",
    "# #Extracting the reviews which have rating == 1,2,3 or rating == 10\n",
    "\n",
    "classify_f=final_df[(final_df['rating']==1)| (final_df['rating']==2) | (final_df['rating']==3) | (final_df['rating']==10)]\n",
    "X=classify_f['review']\n",
    "Y=classify_f['rating']\n",
    "\n",
    "X.reset_index(drop=True,inplace=True)\n",
    "Y.reset_index(drop=True,inplace=True)\n",
    "\n",
    "Y = Y.replace(classes)"
   ]
  },
  {
   "cell_type": "code",
   "execution_count": 32,
   "metadata": {},
   "outputs": [
    {
     "name": "stdout",
     "output_type": "stream",
     "text": [
      "X shape : (9283,)\n",
      "Y shape : (9283,)\n",
      "No of instances of Class 0(Negative) : 4434\n",
      "No of instances of Class 1(Positive) : 4849\n"
     ]
    }
   ],
   "source": [
    "print(\"X shape : {}\".format(X.shape))\n",
    "print(\"Y shape : {}\".format(Y.shape))\n",
    "print(\"No of instances of Class 0(Negative) : {}\".format(len(Y[Y==0])))\n",
    "print(\"No of instances of Class 1(Positive) : {}\".format(len(Y[Y==1])))"
   ]
  },
  {
   "cell_type": "code",
   "execution_count": 33,
   "metadata": {},
   "outputs": [],
   "source": [
    "# X = final_df['review'].copy()\n",
    "# Y = final_df['rating']"
   ]
  },
  {
   "cell_type": "code",
   "execution_count": 34,
   "metadata": {},
   "outputs": [],
   "source": [
    "#Remove punctuation, stopwords, numbers\n",
    "#Case normalization\n",
    "\n",
    "stopwords_list = ['onto','ive','alot','im','mg','medication','medications','like','amp','w','use','used','tried','would'\n",
    "                  ,'id']\n",
    "\n",
    "def process_text(sentence):\n",
    "   \n",
    "        nopunc = re.sub(r'[^a-zA-z]',' ',sentence)\n",
    "        nopunc = [word.lower() for word in nopunc.split() if word.lower() not in stopwords.words('english')]\n",
    "        return [word for word in nopunc if word not in stopwords_list]\n",
    "   "
   ]
  },
  {
   "cell_type": "code",
   "execution_count": 35,
   "metadata": {},
   "outputs": [],
   "source": [
    "#Stemming\n",
    "\n",
    "def stem(list_of_words):\n",
    "    stemmer = PorterStemmer()\n",
    "    list_of_words = [stemmer.stem(word) for word in list_of_words]\n",
    "    return list_of_words"
   ]
  },
  {
   "cell_type": "code",
   "execution_count": 36,
   "metadata": {},
   "outputs": [],
   "source": [
    "#Lemmatization\n",
    "\n",
    "# def lemmatized(list_of_words):\n",
    "#     lemmatizer = WordNetLemmatizer()\n",
    "#     list_of_words = [lemmatizer.lemmatize(word) for word in list_of_words]\n",
    "#     return list_of_words"
   ]
  },
  {
   "cell_type": "code",
   "execution_count": 37,
   "metadata": {},
   "outputs": [],
   "source": [
    "def join_words(list_of_words):\n",
    "    \n",
    "        return ' '.join(list_of_words)\n"
   ]
  },
  {
   "cell_type": "code",
   "execution_count": 38,
   "metadata": {},
   "outputs": [],
   "source": [
    "#Call the functions\n",
    "\n",
    "for i in range(len(X)):\n",
    "    X[i] = process_text(X[i])\n",
    "    X[i] = stem(X[i])\n",
    "    X[i] = join_words(X[i])      "
   ]
  },
  {
   "cell_type": "code",
   "execution_count": 39,
   "metadata": {},
   "outputs": [],
   "source": [
    "#Splitting the data into train and test data. Test size is 30% of the dataset\n",
    "\n",
    "X_train, X_test, Y_train, Y_test = train_test_split(X, Y, test_size=0.3, random_state=101)"
   ]
  },
  {
   "cell_type": "code",
   "execution_count": 40,
   "metadata": {},
   "outputs": [],
   "source": [
    "#Vectorize the data to form binary Bag of words\n",
    "\n",
    "vectorizer = CountVectorizer()\n",
    "X_train = vectorizer.fit_transform(X_train)\n",
    "X_test = vectorizer.transform(X_test)\n",
    "\n",
    "Y_train = Y_train.values\n",
    "Y_test = Y_test.values"
   ]
  },
  {
   "cell_type": "code",
   "execution_count": 41,
   "metadata": {},
   "outputs": [
    {
     "name": "stdout",
     "output_type": "stream",
     "text": [
      "X_train shape : (6498, 7086)\n"
     ]
    }
   ],
   "source": [
    "print(\"X_train shape : {}\".format(X_train.shape))"
   ]
  },
  {
   "cell_type": "markdown",
   "metadata": {},
   "source": [
    "## Five classifiers were built and compared using confusion matrix, classification report and  AUC score."
   ]
  },
  {
   "cell_type": "markdown",
   "metadata": {},
   "source": [
    "# Naive Bayes"
   ]
  },
  {
   "cell_type": "code",
   "execution_count": 42,
   "metadata": {},
   "outputs": [],
   "source": [
    "#Training a Multinomial Naive Bayes model\n",
    "\n",
    "nb = BernoulliNB()\n",
    "model=nb.fit(X_train,Y_train)"
   ]
  },
  {
   "cell_type": "code",
   "execution_count": 43,
   "metadata": {},
   "outputs": [],
   "source": [
    "#Predicting the rating using the test data\n",
    "\n",
    "preds_test = nb.predict(X_test)\n",
    "preds_train = nb.predict(X_train)"
   ]
  },
  {
   "cell_type": "code",
   "execution_count": 44,
   "metadata": {},
   "outputs": [
    {
     "name": "stdout",
     "output_type": "stream",
     "text": [
      "=====Accuracy score============\n",
      "\n",
      "Train accuracy score : 0.8780\n",
      "Test accuracy score : 0.8212\n",
      "\n",
      "=====Confusion Matrix==========\n",
      " \n",
      "[[1086  264]\n",
      " [ 234 1201]]\n",
      "\n",
      "=====Classification report=====\n",
      "\n",
      "              precision    recall  f1-score   support\n",
      "\n",
      "           0       0.82      0.80      0.81      1350\n",
      "           1       0.82      0.84      0.83      1435\n",
      "\n",
      "    accuracy                           0.82      2785\n",
      "   macro avg       0.82      0.82      0.82      2785\n",
      "weighted avg       0.82      0.82      0.82      2785\n",
      "\n"
     ]
    }
   ],
   "source": [
    "#Evaluating the predictions\n",
    "print(\"=====Accuracy score============\\n\")\n",
    "print(\"Train accuracy score : {:.4f}\".format(accuracy_score(Y_train,preds_train)))\n",
    "print(\"Test accuracy score : {:.4f}\".format(accuracy_score(Y_test,preds_test)))\n",
    "print(\"\\n=====Confusion Matrix==========\\n \")\n",
    "print(confusion_matrix(Y_test,preds_test))\n",
    "print(\"\\n=====Classification report=====\\n\")\n",
    "print(classification_report(Y_test,preds_test))"
   ]
  },
  {
   "cell_type": "code",
   "execution_count": 45,
   "metadata": {},
   "outputs": [],
   "source": [
    "probs = nb.predict_proba(X_test)[:,1]"
   ]
  },
  {
   "cell_type": "code",
   "execution_count": 46,
   "metadata": {},
   "outputs": [
    {
     "data": {
      "image/png": "[encoded data removed]",
      "text/plain": [
       "<Figure size 576x432 with 1 Axes>"
      ]
     },
     "metadata": {},
     "output_type": "display_data"
    }
   ],
   "source": [
    "fpr, tpr, thresholds = roc_curve(Y_test,probs)\n",
    "\n",
    "plt.figure(figsize = (8,6))\n",
    "plt.plot(fpr,tpr,'-', color = '#BD1C37',linewidth = 4)\n",
    "plt.plot([0.0,1.0],[0.0,1.0],color = '#315580',linewidth = 4)\n",
    "plt.title(\"ROC - AUC curve\",fontsize = 20)\n",
    "plt.xlabel(\"False positive rate\",fontsize = 15)\n",
    "plt.ylabel(\"True positive rate\",fontsize = 15)\n",
    "plt.show()"
   ]
  },
  {
   "cell_type": "code",
   "execution_count": 47,
   "metadata": {},
   "outputs": [
    {
     "name": "stdout",
     "output_type": "stream",
     "text": [
      "AUC SCORE : 0.9009\n"
     ]
    }
   ],
   "source": [
    "print('AUC SCORE : {:.4}'.format(auc(fpr,tpr)))"
   ]
  },
  {
   "cell_type": "markdown",
   "metadata": {},
   "source": [
    "# Logistic Regression"
   ]
  },
  {
   "cell_type": "code",
   "execution_count": 48,
   "metadata": {},
   "outputs": [],
   "source": [
    "#Training a Logistic Regression model\n",
    "\n",
    "lr = LogisticRegression()\n",
    "model=lr.fit(X_train,Y_train)"
   ]
  },
  {
   "cell_type": "code",
   "execution_count": 49,
   "metadata": {},
   "outputs": [],
   "source": [
    "#Predicting the rating using the test data\n",
    "\n",
    "preds_test = lr.predict(X_test)\n",
    "preds_train = lr.predict(X_train)\n"
   ]
  },
  {
   "cell_type": "code",
   "execution_count": 50,
   "metadata": {},
   "outputs": [
    {
     "name": "stdout",
     "output_type": "stream",
     "text": [
      "=====Accuracy score============\n",
      "\n",
      "Train accuracy score : 0.9752\n",
      "Test accuracy score : 0.8650\n",
      "\n",
      "=====Confusion Matrix==========\n",
      " \n",
      "[[1170  180]\n",
      " [ 196 1239]]\n",
      "\n",
      "=====Classification report=====\n",
      "\n",
      "              precision    recall  f1-score   support\n",
      "\n",
      "           0       0.86      0.87      0.86      1350\n",
      "           1       0.87      0.86      0.87      1435\n",
      "\n",
      "    accuracy                           0.86      2785\n",
      "   macro avg       0.86      0.87      0.86      2785\n",
      "weighted avg       0.87      0.86      0.87      2785\n",
      "\n"
     ]
    }
   ],
   "source": [
    "#Evaluating the predictions\n",
    "print(\"=====Accuracy score============\\n\")\n",
    "print(\"Train accuracy score : {:.4f}\".format(accuracy_score(Y_train,preds_train)))\n",
    "print(\"Test accuracy score : {:.4f}\".format(accuracy_score(Y_test,preds_test)))\n",
    "print(\"\\n=====Confusion Matrix==========\\n \")\n",
    "print(confusion_matrix(Y_test,preds_test))\n",
    "print(\"\\n=====Classification report=====\\n\")\n",
    "print(classification_report(Y_test,preds_test))"
   ]
  },
  {
   "cell_type": "code",
   "execution_count": 51,
   "metadata": {},
   "outputs": [],
   "source": [
    "probs = lr.predict_proba(X_test)[:,1]"
   ]
  },
  {
   "cell_type": "code",
   "execution_count": 52,
   "metadata": {},
   "outputs": [
    {
     "data": {
      "image/png": "[encoded data removed]",
      "text/plain": [
       "<Figure size 576x432 with 1 Axes>"
      ]
     },
     "metadata": {},
     "output_type": "display_data"
    }
   ],
   "source": [
    "fpr, tpr, thresholds = roc_curve(Y_test,probs)\n",
    "\n",
    "plt.figure(figsize = (8,6))\n",
    "plt.plot(fpr,tpr,'-', color = '#BD1C37',linewidth = 4)\n",
    "plt.plot([0.0,1.0],[0.0,1.0],color = '#315580',linewidth = 4)\n",
    "plt.title(\"ROC - AUC curve\",fontsize = 20)\n",
    "plt.xlabel(\"False positive rate\",fontsize = 15)\n",
    "plt.ylabel(\"True positive rate\",fontsize = 15)\n",
    "plt.show()"
   ]
  },
  {
   "cell_type": "code",
   "execution_count": 53,
   "metadata": {},
   "outputs": [
    {
     "name": "stdout",
     "output_type": "stream",
     "text": [
      "AUC SCORE : 0.9321\n"
     ]
    }
   ],
   "source": [
    "print('AUC SCORE : {:.4}'.format(auc(fpr,tpr)))"
   ]
  },
  {
   "cell_type": "markdown",
   "metadata": {},
   "source": [
    "# Support Vector Machine"
   ]
  },
  {
   "cell_type": "code",
   "execution_count": 54,
   "metadata": {},
   "outputs": [],
   "source": [
    "#Training a support vector machine \n",
    "#Default kernel is RBF\n",
    "#if gamma='scale' (default) is passed then it uses 1 / (n_features * X.var()) as value of gamma,\n",
    "\n",
    "svc = SVC(gamma = 'scale',probability = True)\n",
    "model=svc.fit(X_train,Y_train)"
   ]
  },
  {
   "cell_type": "code",
   "execution_count": 55,
   "metadata": {},
   "outputs": [],
   "source": [
    "#Predicting the rating using the test data\n",
    "\n",
    "preds_test = svc.predict(X_test)\n",
    "preds_train = svc.predict(X_train)"
   ]
  },
  {
   "cell_type": "code",
   "execution_count": 56,
   "metadata": {},
   "outputs": [
    {
     "name": "stdout",
     "output_type": "stream",
     "text": [
      "=====Accuracy score============\n",
      "\n",
      "Train accuracy score : 0.9671\n",
      "Test accuracy score : 0.8704\n",
      "\n",
      "=====Confusion Matrix==========\n",
      " \n",
      "[[1156  194]\n",
      " [ 167 1268]]\n",
      "\n",
      "=====Classification report=====\n",
      "\n",
      "              precision    recall  f1-score   support\n",
      "\n",
      "           0       0.87      0.86      0.86      1350\n",
      "           1       0.87      0.88      0.88      1435\n",
      "\n",
      "    accuracy                           0.87      2785\n",
      "   macro avg       0.87      0.87      0.87      2785\n",
      "weighted avg       0.87      0.87      0.87      2785\n",
      "\n"
     ]
    }
   ],
   "source": [
    "#Evaluating the predictions\n",
    "print(\"=====Accuracy score============\\n\")\n",
    "print(\"Train accuracy score : {:.4f}\".format(accuracy_score(Y_train,preds_train)))\n",
    "print(\"Test accuracy score : {:.4f}\".format(accuracy_score(Y_test,preds_test)))\n",
    "print(\"\\n=====Confusion Matrix==========\\n \")\n",
    "print(confusion_matrix(Y_test,preds_test))\n",
    "print(\"\\n=====Classification report=====\\n\")\n",
    "print(classification_report(Y_test,preds_test))"
   ]
  },
  {
   "cell_type": "code",
   "execution_count": 57,
   "metadata": {},
   "outputs": [],
   "source": [
    "probs = svc.predict_proba(X_test)[:,1]"
   ]
  },
  {
   "cell_type": "code",
   "execution_count": 58,
   "metadata": {},
   "outputs": [
    {
     "data": {
      "image/png": "[encoded data removed]",
      "text/plain": [
       "<Figure size 576x432 with 1 Axes>"
      ]
     },
     "metadata": {},
     "output_type": "display_data"
    }
   ],
   "source": [
    "fpr, tpr, thresholds = roc_curve(Y_test,probs)\n",
    "\n",
    "plt.figure(figsize = (8,6))\n",
    "plt.plot(fpr,tpr,'-', color = '#BD1C37',linewidth = 4)\n",
    "plt.plot([0.0,1.0],[0.0,1.0],color = '#315580',linewidth = 4)\n",
    "plt.title(\"ROC - AUC curve\",fontsize = 20)\n",
    "plt.xlabel(\"False positive rate\",fontsize = 15)\n",
    "plt.ylabel(\"True positive rate\",fontsize = 15)\n",
    "plt.show()"
   ]
  },
  {
   "cell_type": "code",
   "execution_count": 59,
   "metadata": {},
   "outputs": [
    {
     "name": "stdout",
     "output_type": "stream",
     "text": [
      "AUC SCORE : 0.9447\n"
     ]
    }
   ],
   "source": [
    "print('AUC SCORE : {:.4}'.format(auc(fpr,tpr)))"
   ]
  },
  {
   "cell_type": "markdown",
   "metadata": {},
   "source": [
    "# Decision tree classifier"
   ]
  },
  {
   "cell_type": "code",
   "execution_count": 60,
   "metadata": {},
   "outputs": [],
   "source": [
    "#Training a Decision Tree classifier model\n",
    "\n",
    "d_tree = DecisionTreeClassifier()\n",
    "model=d_tree.fit(X_train,Y_train)"
   ]
  },
  {
   "cell_type": "code",
   "execution_count": 61,
   "metadata": {},
   "outputs": [],
   "source": [
    "#Predicting the rating using the test data\n",
    "\n",
    "preds_test = d_tree.predict(X_test)\n",
    "preds_train = d_tree.predict(X_train)"
   ]
  },
  {
   "cell_type": "code",
   "execution_count": 62,
   "metadata": {},
   "outputs": [
    {
     "name": "stdout",
     "output_type": "stream",
     "text": [
      "=====Accuracy score============\n",
      "\n",
      "Train accuracy score : 1.0000\n",
      "Test accuracy score : 0.7522\n",
      "\n",
      "=====Confusion Matrix==========\n",
      " \n",
      "[[1004  346]\n",
      " [ 344 1091]]\n",
      "\n",
      "=====Classification report=====\n",
      "\n",
      "              precision    recall  f1-score   support\n",
      "\n",
      "           0       0.74      0.74      0.74      1350\n",
      "           1       0.76      0.76      0.76      1435\n",
      "\n",
      "    accuracy                           0.75      2785\n",
      "   macro avg       0.75      0.75      0.75      2785\n",
      "weighted avg       0.75      0.75      0.75      2785\n",
      "\n"
     ]
    }
   ],
   "source": [
    "#Evaluating the predictions\n",
    "print(\"=====Accuracy score============\\n\")\n",
    "print(\"Train accuracy score : {:.4f}\".format(accuracy_score(Y_train,preds_train)))\n",
    "print(\"Test accuracy score : {:.4f}\".format(accuracy_score(Y_test,preds_test)))\n",
    "print(\"\\n=====Confusion Matrix==========\\n \")\n",
    "print(confusion_matrix(Y_test,preds_test))\n",
    "print(\"\\n=====Classification report=====\\n\")\n",
    "print(classification_report(Y_test,preds_test))"
   ]
  },
  {
   "cell_type": "code",
   "execution_count": 63,
   "metadata": {},
   "outputs": [],
   "source": [
    "probs = d_tree.predict_proba(X_test)[:,1]"
   ]
  },
  {
   "cell_type": "code",
   "execution_count": 64,
   "metadata": {},
   "outputs": [
    {
     "data": {
      "image/png": "[encoded data removed]",
      "text/plain": [
       "<Figure size 576x432 with 1 Axes>"
      ]
     },
     "metadata": {},
     "output_type": "display_data"
    }
   ],
   "source": [
    "fpr, tpr, thresholds = roc_curve(Y_test,probs)\n",
    "\n",
    "plt.figure(figsize = (8,6))\n",
    "plt.plot(fpr,tpr,'-', color = '#BD1C37',linewidth = 4)\n",
    "plt.plot([0.0,1.0],[0.0,1.0],color = '#315580',linewidth = 4)\n",
    "plt.title(\"ROC - AUC curve\",fontsize = 20)\n",
    "plt.xlabel(\"False positive rate\",fontsize = 15)\n",
    "plt.ylabel(\"True positive rate\",fontsize = 15)\n",
    "plt.show()"
   ]
  },
  {
   "cell_type": "code",
   "execution_count": 65,
   "metadata": {},
   "outputs": [
    {
     "name": "stdout",
     "output_type": "stream",
     "text": [
      "AUC SCORE : 0.752\n"
     ]
    }
   ],
   "source": [
    "print('AUC SCORE : {:.4}'.format(auc(fpr,tpr)))"
   ]
  },
  {
   "cell_type": "markdown",
   "metadata": {},
   "source": [
    "# Random Forest Classifier"
   ]
  },
  {
   "cell_type": "code",
   "execution_count": 66,
   "metadata": {},
   "outputs": [],
   "source": [
    "#Training a Random Forest classifier model\n",
    "\n",
    "forest = RandomForestClassifier()\n",
    "model=forest.fit(X_train,Y_train)"
   ]
  },
  {
   "cell_type": "code",
   "execution_count": 67,
   "metadata": {},
   "outputs": [],
   "source": [
    "#Predicting the rating using the test data\n",
    "\n",
    "preds_test = forest.predict(X_test)\n",
    "preds_train = forest.predict(X_train)"
   ]
  },
  {
   "cell_type": "code",
   "execution_count": 68,
   "metadata": {},
   "outputs": [
    {
     "name": "stdout",
     "output_type": "stream",
     "text": [
      "=====Accuracy score============\n",
      "\n",
      "Train accuracy score : 0.9949\n",
      "Test accuracy score : 0.8054\n",
      "\n",
      "=====Confusion Matrix==========\n",
      " \n",
      "[[1162  188]\n",
      " [ 354 1081]]\n",
      "\n",
      "=====Classification report=====\n",
      "\n",
      "              precision    recall  f1-score   support\n",
      "\n",
      "           0       0.77      0.86      0.81      1350\n",
      "           1       0.85      0.75      0.80      1435\n",
      "\n",
      "    accuracy                           0.81      2785\n",
      "   macro avg       0.81      0.81      0.81      2785\n",
      "weighted avg       0.81      0.81      0.81      2785\n",
      "\n"
     ]
    }
   ],
   "source": [
    "#Evaluating the predictions\n",
    "\n",
    "print(\"=====Accuracy score============\\n\")\n",
    "print(\"Train accuracy score : {:.4f}\".format(accuracy_score(Y_train,preds_train)))\n",
    "print(\"Test accuracy score : {:.4f}\".format(accuracy_score(Y_test,preds_test)))\n",
    "print(\"\\n=====Confusion Matrix==========\\n \")\n",
    "print(confusion_matrix(Y_test,preds_test))\n",
    "print(\"\\n=====Classification report=====\\n\")\n",
    "print(classification_report(Y_test,preds_test))"
   ]
  },
  {
   "cell_type": "code",
   "execution_count": 69,
   "metadata": {},
   "outputs": [],
   "source": [
    "probs = forest.predict_proba(X_test)[:,1]"
   ]
  },
  {
   "cell_type": "code",
   "execution_count": 70,
   "metadata": {},
   "outputs": [
    {
     "data": {
      "image/png": "[encoded data removed]",
      "text/plain": [
       "<Figure size 576x432 with 1 Axes>"
      ]
     },
     "metadata": {},
     "output_type": "display_data"
    }
   ],
   "source": [
    "fpr, tpr, thresholds = roc_curve(Y_test,probs)\n",
    "\n",
    "plt.figure(figsize = (8,6))\n",
    "plt.plot(fpr,tpr,'-', color = '#BD1C37',linewidth = 4)\n",
    "plt.plot([0.0,1.0],[0.0,1.0],color = '#315580',linewidth = 4)\n",
    "plt.title(\"ROC - AUC curve\",fontsize = 20)\n",
    "plt.xlabel(\"False positive rate\",fontsize = 15)\n",
    "plt.ylabel(\"True positive rate\",fontsize = 15)\n",
    "plt.show()"
   ]
  },
  {
   "cell_type": "code",
   "execution_count": 71,
   "metadata": {},
   "outputs": [
    {
     "name": "stdout",
     "output_type": "stream",
     "text": [
      "AUC SCORE : 0.8868\n"
     ]
    }
   ],
   "source": [
    "print('AUC SCORE : {:.4}'.format(auc(fpr,tpr)))"
   ]
  },
  {
   "cell_type": "markdown",
   "metadata": {},
   "source": [
    "# Final model"
   ]
  },
  {
   "cell_type": "markdown",
   "metadata": {},
   "source": [
    "It is evident that both Decision tree and random forest are overfitting. This can be solved by applying regularization. However, for this problem Support Vector Machine was selected as the final model based on the AUC score even though it takes longer computing time. Hyperparameters were tuned using GridSearchCV"
   ]
  },
  {
   "cell_type": "code",
   "execution_count": 72,
   "metadata": {},
   "outputs": [
    {
     "name": "stdout",
     "output_type": "stream",
     "text": [
      "Fitting 3 folds for each of 48 candidates, totalling 144 fits\n",
      "[CV] C=0.1, gamma=1, kernel=rbf ......................................\n"
     ]
    },
    {
     "name": "stderr",
     "output_type": "stream",
     "text": [
      "[Parallel(n_jobs=1)]: Using backend SequentialBackend with 1 concurrent workers.\n"
     ]
    },
    {
     "name": "stdout",
     "output_type": "stream",
     "text": [
      "[CV] ....................... C=0.1, gamma=1, kernel=rbf, total=   9.7s\n",
      "[CV] C=0.1, gamma=1, kernel=rbf ......................................\n"
     ]
    },
    {
     "name": "stderr",
     "output_type": "stream",
     "text": [
      "[Parallel(n_jobs=1)]: Done   1 out of   1 | elapsed:    9.7s remaining:    0.0s\n"
     ]
    },
    {
     "name": "stdout",
     "output_type": "stream",
     "text": [
      "[CV] ....................... C=0.1, gamma=1, kernel=rbf, total=  10.6s\n",
      "[CV] C=0.1, gamma=1, kernel=rbf ......................................\n",
      "[CV] ....................... C=0.1, gamma=1, kernel=rbf, total=  10.1s\n",
      "[CV] C=0.1, gamma=1, kernel=poly .....................................\n",
      "[CV] ...................... C=0.1, gamma=1, kernel=poly, total=   9.6s\n",
      "[CV] C=0.1, gamma=1, kernel=poly .....................................\n",
      "[CV] ...................... C=0.1, gamma=1, kernel=poly, total=   8.4s\n",
      "[CV] C=0.1, gamma=1, kernel=poly .....................................\n",
      "[CV] ...................... C=0.1, gamma=1, kernel=poly, total=   8.6s\n",
      "[CV] C=0.1, gamma=1, kernel=sigmoid ..................................\n",
      "[CV] ................... C=0.1, gamma=1, kernel=sigmoid, total=   4.6s\n",
      "[CV] C=0.1, gamma=1, kernel=sigmoid ..................................\n",
      "[CV] ................... C=0.1, gamma=1, kernel=sigmoid, total=   4.5s\n",
      "[CV] C=0.1, gamma=1, kernel=sigmoid ..................................\n",
      "[CV] ................... C=0.1, gamma=1, kernel=sigmoid, total=   4.4s\n",
      "[CV] C=0.1, gamma=0.1, kernel=rbf ....................................\n",
      "[CV] ..................... C=0.1, gamma=0.1, kernel=rbf, total=   9.2s\n",
      "[CV] C=0.1, gamma=0.1, kernel=rbf ....................................\n",
      "[CV] ..................... C=0.1, gamma=0.1, kernel=rbf, total=   9.2s\n",
      "[CV] C=0.1, gamma=0.1, kernel=rbf ....................................\n",
      "[CV] ..................... C=0.1, gamma=0.1, kernel=rbf, total=   9.7s\n",
      "[CV] C=0.1, gamma=0.1, kernel=poly ...................................\n",
      "[CV] .................... C=0.1, gamma=0.1, kernel=poly, total=   7.5s\n",
      "[CV] C=0.1, gamma=0.1, kernel=poly ...................................\n",
      "[CV] .................... C=0.1, gamma=0.1, kernel=poly, total=   7.7s\n",
      "[CV] C=0.1, gamma=0.1, kernel=poly ...................................\n",
      "[CV] .................... C=0.1, gamma=0.1, kernel=poly, total=   8.1s\n",
      "[CV] C=0.1, gamma=0.1, kernel=sigmoid ................................\n",
      "[CV] ................. C=0.1, gamma=0.1, kernel=sigmoid, total=   5.1s\n",
      "[CV] C=0.1, gamma=0.1, kernel=sigmoid ................................\n",
      "[CV] ................. C=0.1, gamma=0.1, kernel=sigmoid, total=   5.0s\n",
      "[CV] C=0.1, gamma=0.1, kernel=sigmoid ................................\n",
      "[CV] ................. C=0.1, gamma=0.1, kernel=sigmoid, total=   4.9s\n",
      "[CV] C=0.1, gamma=0.01, kernel=rbf ...................................\n",
      "[CV] .................... C=0.1, gamma=0.01, kernel=rbf, total=   8.3s\n",
      "[CV] C=0.1, gamma=0.01, kernel=rbf ...................................\n",
      "[CV] .................... C=0.1, gamma=0.01, kernel=rbf, total=   8.3s\n",
      "[CV] C=0.1, gamma=0.01, kernel=rbf ...................................\n",
      "[CV] .................... C=0.1, gamma=0.01, kernel=rbf, total=   8.2s\n",
      "[CV] C=0.1, gamma=0.01, kernel=poly ..................................\n",
      "[CV] ................... C=0.1, gamma=0.01, kernel=poly, total=   8.7s\n",
      "[CV] C=0.1, gamma=0.01, kernel=poly ..................................\n",
      "[CV] ................... C=0.1, gamma=0.01, kernel=poly, total=   8.8s\n",
      "[CV] C=0.1, gamma=0.01, kernel=poly ..................................\n",
      "[CV] ................... C=0.1, gamma=0.01, kernel=poly, total=   8.8s\n",
      "[CV] C=0.1, gamma=0.01, kernel=sigmoid ...............................\n",
      "[CV] ................ C=0.1, gamma=0.01, kernel=sigmoid, total=   8.0s\n",
      "[CV] C=0.1, gamma=0.01, kernel=sigmoid ...............................\n",
      "[CV] ................ C=0.1, gamma=0.01, kernel=sigmoid, total=   7.5s\n",
      "[CV] C=0.1, gamma=0.01, kernel=sigmoid ...............................\n",
      "[CV] ................ C=0.1, gamma=0.01, kernel=sigmoid, total=   7.5s\n",
      "[CV] C=0.1, gamma=0.001, kernel=rbf ..................................\n",
      "[CV] ................... C=0.1, gamma=0.001, kernel=rbf, total=   8.8s\n",
      "[CV] C=0.1, gamma=0.001, kernel=rbf ..................................\n",
      "[CV] ................... C=0.1, gamma=0.001, kernel=rbf, total=   8.7s\n",
      "[CV] C=0.1, gamma=0.001, kernel=rbf ..................................\n",
      "[CV] ................... C=0.1, gamma=0.001, kernel=rbf, total=   8.8s\n",
      "[CV] C=0.1, gamma=0.001, kernel=poly .................................\n",
      "[CV] .................. C=0.1, gamma=0.001, kernel=poly, total=   8.2s\n",
      "[CV] C=0.1, gamma=0.001, kernel=poly .................................\n",
      "[CV] .................. C=0.1, gamma=0.001, kernel=poly, total=   8.2s\n",
      "[CV] C=0.1, gamma=0.001, kernel=poly .................................\n",
      "[CV] .................. C=0.1, gamma=0.001, kernel=poly, total=   8.2s\n",
      "[CV] C=0.1, gamma=0.001, kernel=sigmoid ..............................\n",
      "[CV] ............... C=0.1, gamma=0.001, kernel=sigmoid, total=   8.5s\n",
      "[CV] C=0.1, gamma=0.001, kernel=sigmoid ..............................\n",
      "[CV] ............... C=0.1, gamma=0.001, kernel=sigmoid, total=   8.5s\n",
      "[CV] C=0.1, gamma=0.001, kernel=sigmoid ..............................\n",
      "[CV] ............... C=0.1, gamma=0.001, kernel=sigmoid, total=   8.5s\n",
      "[CV] C=1, gamma=1, kernel=rbf ........................................\n",
      "[CV] ......................... C=1, gamma=1, kernel=rbf, total=   9.9s\n",
      "[CV] C=1, gamma=1, kernel=rbf ........................................\n",
      "[CV] ......................... C=1, gamma=1, kernel=rbf, total=   9.9s\n",
      "[CV] C=1, gamma=1, kernel=rbf ........................................\n",
      "[CV] ......................... C=1, gamma=1, kernel=rbf, total=   9.8s\n",
      "[CV] C=1, gamma=1, kernel=poly .......................................\n",
      "[CV] ........................ C=1, gamma=1, kernel=poly, total=   7.0s\n",
      "[CV] C=1, gamma=1, kernel=poly .......................................\n",
      "[CV] ........................ C=1, gamma=1, kernel=poly, total=   7.3s\n",
      "[CV] C=1, gamma=1, kernel=poly .......................................\n",
      "[CV] ........................ C=1, gamma=1, kernel=poly, total=   7.5s\n",
      "[CV] C=1, gamma=1, kernel=sigmoid ....................................\n",
      "[CV] ..................... C=1, gamma=1, kernel=sigmoid, total=   4.1s\n",
      "[CV] C=1, gamma=1, kernel=sigmoid ....................................\n",
      "[CV] ..................... C=1, gamma=1, kernel=sigmoid, total=   4.1s\n",
      "[CV] C=1, gamma=1, kernel=sigmoid ....................................\n",
      "[CV] ..................... C=1, gamma=1, kernel=sigmoid, total=   4.0s\n",
      "[CV] C=1, gamma=0.1, kernel=rbf ......................................\n",
      "[CV] ....................... C=1, gamma=0.1, kernel=rbf, total=   9.0s\n",
      "[CV] C=1, gamma=0.1, kernel=rbf ......................................\n",
      "[CV] ....................... C=1, gamma=0.1, kernel=rbf, total=   9.1s\n",
      "[CV] C=1, gamma=0.1, kernel=rbf ......................................\n",
      "[CV] ....................... C=1, gamma=0.1, kernel=rbf, total=   9.8s\n",
      "[CV] C=1, gamma=0.1, kernel=poly .....................................\n",
      "[CV] ...................... C=1, gamma=0.1, kernel=poly, total=   7.3s\n",
      "[CV] C=1, gamma=0.1, kernel=poly .....................................\n",
      "[CV] ...................... C=1, gamma=0.1, kernel=poly, total=   6.7s\n",
      "[CV] C=1, gamma=0.1, kernel=poly .....................................\n",
      "[CV] ...................... C=1, gamma=0.1, kernel=poly, total=   6.8s\n",
      "[CV] C=1, gamma=0.1, kernel=sigmoid ..................................\n",
      "[CV] ................... C=1, gamma=0.1, kernel=sigmoid, total=   3.6s\n",
      "[CV] C=1, gamma=0.1, kernel=sigmoid ..................................\n",
      "[CV] ................... C=1, gamma=0.1, kernel=sigmoid, total=   3.6s\n",
      "[CV] C=1, gamma=0.1, kernel=sigmoid ..................................\n",
      "[CV] ................... C=1, gamma=0.1, kernel=sigmoid, total=   3.4s\n",
      "[CV] C=1, gamma=0.01, kernel=rbf .....................................\n",
      "[CV] ...................... C=1, gamma=0.01, kernel=rbf, total=   6.7s\n",
      "[CV] C=1, gamma=0.01, kernel=rbf .....................................\n",
      "[CV] ...................... C=1, gamma=0.01, kernel=rbf, total=   7.0s\n",
      "[CV] C=1, gamma=0.01, kernel=rbf .....................................\n",
      "[CV] ...................... C=1, gamma=0.01, kernel=rbf, total=   7.6s\n",
      "[CV] C=1, gamma=0.01, kernel=poly ....................................\n",
      "[CV] ..................... C=1, gamma=0.01, kernel=poly, total=  10.4s\n",
      "[CV] C=1, gamma=0.01, kernel=poly ....................................\n",
      "[CV] ..................... C=1, gamma=0.01, kernel=poly, total=   9.4s\n",
      "[CV] C=1, gamma=0.01, kernel=poly ....................................\n"
     ]
    },
    {
     "name": "stdout",
     "output_type": "stream",
     "text": [
      "[CV] ..................... C=1, gamma=0.01, kernel=poly, total=   8.7s\n",
      "[CV] C=1, gamma=0.01, kernel=sigmoid .................................\n",
      "[CV] .................. C=1, gamma=0.01, kernel=sigmoid, total=   5.1s\n",
      "[CV] C=1, gamma=0.01, kernel=sigmoid .................................\n",
      "[CV] .................. C=1, gamma=0.01, kernel=sigmoid, total=   5.1s\n",
      "[CV] C=1, gamma=0.01, kernel=sigmoid .................................\n",
      "[CV] .................. C=1, gamma=0.01, kernel=sigmoid, total=   5.1s\n",
      "[CV] C=1, gamma=0.001, kernel=rbf ....................................\n",
      "[CV] ..................... C=1, gamma=0.001, kernel=rbf, total=   8.6s\n",
      "[CV] C=1, gamma=0.001, kernel=rbf ....................................\n",
      "[CV] ..................... C=1, gamma=0.001, kernel=rbf, total=   7.1s\n",
      "[CV] C=1, gamma=0.001, kernel=rbf ....................................\n",
      "[CV] ..................... C=1, gamma=0.001, kernel=rbf, total=   9.7s\n",
      "[CV] C=1, gamma=0.001, kernel=poly ...................................\n",
      "[CV] .................... C=1, gamma=0.001, kernel=poly, total=   9.4s\n",
      "[CV] C=1, gamma=0.001, kernel=poly ...................................\n",
      "[CV] .................... C=1, gamma=0.001, kernel=poly, total=   9.6s\n",
      "[CV] C=1, gamma=0.001, kernel=poly ...................................\n",
      "[CV] .................... C=1, gamma=0.001, kernel=poly, total=   9.3s\n",
      "[CV] C=1, gamma=0.001, kernel=sigmoid ................................\n",
      "[CV] ................. C=1, gamma=0.001, kernel=sigmoid, total=   8.1s\n",
      "[CV] C=1, gamma=0.001, kernel=sigmoid ................................\n",
      "[CV] ................. C=1, gamma=0.001, kernel=sigmoid, total=   8.5s\n",
      "[CV] C=1, gamma=0.001, kernel=sigmoid ................................\n",
      "[CV] ................. C=1, gamma=0.001, kernel=sigmoid, total=   7.9s\n",
      "[CV] C=10, gamma=1, kernel=rbf .......................................\n",
      "[CV] ........................ C=10, gamma=1, kernel=rbf, total=  10.4s\n",
      "[CV] C=10, gamma=1, kernel=rbf .......................................\n",
      "[CV] ........................ C=10, gamma=1, kernel=rbf, total=  10.8s\n",
      "[CV] C=10, gamma=1, kernel=rbf .......................................\n",
      "[CV] ........................ C=10, gamma=1, kernel=rbf, total=  10.0s\n",
      "[CV] C=10, gamma=1, kernel=poly ......................................\n",
      "[CV] ....................... C=10, gamma=1, kernel=poly, total=   6.9s\n",
      "[CV] C=10, gamma=1, kernel=poly ......................................\n",
      "[CV] ....................... C=10, gamma=1, kernel=poly, total=   7.3s\n",
      "[CV] C=10, gamma=1, kernel=poly ......................................\n",
      "[CV] ....................... C=10, gamma=1, kernel=poly, total=   7.4s\n",
      "[CV] C=10, gamma=1, kernel=sigmoid ...................................\n",
      "[CV] .................... C=10, gamma=1, kernel=sigmoid, total=   4.2s\n",
      "[CV] C=10, gamma=1, kernel=sigmoid ...................................\n",
      "[CV] .................... C=10, gamma=1, kernel=sigmoid, total=   4.3s\n",
      "[CV] C=10, gamma=1, kernel=sigmoid ...................................\n",
      "[CV] .................... C=10, gamma=1, kernel=sigmoid, total=   4.1s\n",
      "[CV] C=10, gamma=0.1, kernel=rbf .....................................\n",
      "[CV] ...................... C=10, gamma=0.1, kernel=rbf, total=  10.0s\n",
      "[CV] C=10, gamma=0.1, kernel=rbf .....................................\n",
      "[CV] ...................... C=10, gamma=0.1, kernel=rbf, total=  12.2s\n",
      "[CV] C=10, gamma=0.1, kernel=rbf .....................................\n",
      "[CV] ...................... C=10, gamma=0.1, kernel=rbf, total=   9.9s\n",
      "[CV] C=10, gamma=0.1, kernel=poly ....................................\n",
      "[CV] ..................... C=10, gamma=0.1, kernel=poly, total=   6.6s\n",
      "[CV] C=10, gamma=0.1, kernel=poly ....................................\n",
      "[CV] ..................... C=10, gamma=0.1, kernel=poly, total=  11.1s\n",
      "[CV] C=10, gamma=0.1, kernel=poly ....................................\n",
      "[CV] ..................... C=10, gamma=0.1, kernel=poly, total=   8.6s\n",
      "[CV] C=10, gamma=0.1, kernel=sigmoid .................................\n",
      "[CV] .................. C=10, gamma=0.1, kernel=sigmoid, total=   4.4s\n",
      "[CV] C=10, gamma=0.1, kernel=sigmoid .................................\n",
      "[CV] .................. C=10, gamma=0.1, kernel=sigmoid, total=   4.3s\n",
      "[CV] C=10, gamma=0.1, kernel=sigmoid .................................\n",
      "[CV] .................. C=10, gamma=0.1, kernel=sigmoid, total=   3.6s\n",
      "[CV] C=10, gamma=0.01, kernel=rbf ....................................\n",
      "[CV] ..................... C=10, gamma=0.01, kernel=rbf, total=   7.6s\n",
      "[CV] C=10, gamma=0.01, kernel=rbf ....................................\n",
      "[CV] ..................... C=10, gamma=0.01, kernel=rbf, total=   7.8s\n",
      "[CV] C=10, gamma=0.01, kernel=rbf ....................................\n",
      "[CV] ..................... C=10, gamma=0.01, kernel=rbf, total=   6.6s\n",
      "[CV] C=10, gamma=0.01, kernel=poly ...................................\n",
      "[CV] .................... C=10, gamma=0.01, kernel=poly, total=   7.6s\n",
      "[CV] C=10, gamma=0.01, kernel=poly ...................................\n",
      "[CV] .................... C=10, gamma=0.01, kernel=poly, total=   7.6s\n",
      "[CV] C=10, gamma=0.01, kernel=poly ...................................\n",
      "[CV] .................... C=10, gamma=0.01, kernel=poly, total=   7.5s\n",
      "[CV] C=10, gamma=0.01, kernel=sigmoid ................................\n",
      "[CV] ................. C=10, gamma=0.01, kernel=sigmoid, total=   4.1s\n",
      "[CV] C=10, gamma=0.01, kernel=sigmoid ................................\n",
      "[CV] ................. C=10, gamma=0.01, kernel=sigmoid, total=   4.3s\n",
      "[CV] C=10, gamma=0.01, kernel=sigmoid ................................\n",
      "[CV] ................. C=10, gamma=0.01, kernel=sigmoid, total=   3.9s\n",
      "[CV] C=10, gamma=0.001, kernel=rbf ...................................\n",
      "[CV] .................... C=10, gamma=0.001, kernel=rbf, total=   4.8s\n",
      "[CV] C=10, gamma=0.001, kernel=rbf ...................................\n",
      "[CV] .................... C=10, gamma=0.001, kernel=rbf, total=   5.1s\n",
      "[CV] C=10, gamma=0.001, kernel=rbf ...................................\n",
      "[CV] .................... C=10, gamma=0.001, kernel=rbf, total=   4.9s\n",
      "[CV] C=10, gamma=0.001, kernel=poly ..................................\n",
      "[CV] ................... C=10, gamma=0.001, kernel=poly, total=   8.8s\n",
      "[CV] C=10, gamma=0.001, kernel=poly ..................................\n",
      "[CV] ................... C=10, gamma=0.001, kernel=poly, total=  10.1s\n",
      "[CV] C=10, gamma=0.001, kernel=poly ..................................\n",
      "[CV] ................... C=10, gamma=0.001, kernel=poly, total=   9.8s\n",
      "[CV] C=10, gamma=0.001, kernel=sigmoid ...............................\n",
      "[CV] ................ C=10, gamma=0.001, kernel=sigmoid, total=   6.3s\n",
      "[CV] C=10, gamma=0.001, kernel=sigmoid ...............................\n",
      "[CV] ................ C=10, gamma=0.001, kernel=sigmoid, total=   5.1s\n",
      "[CV] C=10, gamma=0.001, kernel=sigmoid ...............................\n",
      "[CV] ................ C=10, gamma=0.001, kernel=sigmoid, total=   5.2s\n",
      "[CV] C=100, gamma=1, kernel=rbf ......................................\n",
      "[CV] ....................... C=100, gamma=1, kernel=rbf, total=  11.0s\n",
      "[CV] C=100, gamma=1, kernel=rbf ......................................\n",
      "[CV] ....................... C=100, gamma=1, kernel=rbf, total=  10.4s\n",
      "[CV] C=100, gamma=1, kernel=rbf ......................................\n",
      "[CV] ....................... C=100, gamma=1, kernel=rbf, total=  10.0s\n",
      "[CV] C=100, gamma=1, kernel=poly .....................................\n",
      "[CV] ...................... C=100, gamma=1, kernel=poly, total=   5.6s\n",
      "[CV] C=100, gamma=1, kernel=poly .....................................\n",
      "[CV] ...................... C=100, gamma=1, kernel=poly, total=   9.1s\n",
      "[CV] C=100, gamma=1, kernel=poly .....................................\n",
      "[CV] ...................... C=100, gamma=1, kernel=poly, total=   7.3s\n",
      "[CV] C=100, gamma=1, kernel=sigmoid ..................................\n",
      "[CV] ................... C=100, gamma=1, kernel=sigmoid, total=   4.3s\n",
      "[CV] C=100, gamma=1, kernel=sigmoid ..................................\n",
      "[CV] ................... C=100, gamma=1, kernel=sigmoid, total=   4.0s\n",
      "[CV] C=100, gamma=1, kernel=sigmoid ..................................\n",
      "[CV] ................... C=100, gamma=1, kernel=sigmoid, total=   4.1s\n",
      "[CV] C=100, gamma=0.1, kernel=rbf ....................................\n"
     ]
    },
    {
     "name": "stdout",
     "output_type": "stream",
     "text": [
      "[CV] ..................... C=100, gamma=0.1, kernel=rbf, total=   8.7s\n",
      "[CV] C=100, gamma=0.1, kernel=rbf ....................................\n",
      "[CV] ..................... C=100, gamma=0.1, kernel=rbf, total=   8.8s\n",
      "[CV] C=100, gamma=0.1, kernel=rbf ....................................\n",
      "[CV] ..................... C=100, gamma=0.1, kernel=rbf, total=   8.9s\n",
      "[CV] C=100, gamma=0.1, kernel=poly ...................................\n",
      "[CV] .................... C=100, gamma=0.1, kernel=poly, total=   8.9s\n",
      "[CV] C=100, gamma=0.1, kernel=poly ...................................\n",
      "[CV] .................... C=100, gamma=0.1, kernel=poly, total=   6.1s\n",
      "[CV] C=100, gamma=0.1, kernel=poly ...................................\n",
      "[CV] .................... C=100, gamma=0.1, kernel=poly, total=   7.8s\n",
      "[CV] C=100, gamma=0.1, kernel=sigmoid ................................\n",
      "[CV] ................. C=100, gamma=0.1, kernel=sigmoid, total=   3.4s\n",
      "[CV] C=100, gamma=0.1, kernel=sigmoid ................................\n",
      "[CV] ................. C=100, gamma=0.1, kernel=sigmoid, total=   3.5s\n",
      "[CV] C=100, gamma=0.1, kernel=sigmoid ................................\n",
      "[CV] ................. C=100, gamma=0.1, kernel=sigmoid, total=   3.4s\n",
      "[CV] C=100, gamma=0.01, kernel=rbf ...................................\n",
      "[CV] .................... C=100, gamma=0.01, kernel=rbf, total=   4.8s\n",
      "[CV] C=100, gamma=0.01, kernel=rbf ...................................\n",
      "[CV] .................... C=100, gamma=0.01, kernel=rbf, total=   7.6s\n",
      "[CV] C=100, gamma=0.01, kernel=rbf ...................................\n",
      "[CV] .................... C=100, gamma=0.01, kernel=rbf, total=   6.1s\n",
      "[CV] C=100, gamma=0.01, kernel=poly ..................................\n",
      "[CV] ................... C=100, gamma=0.01, kernel=poly, total=   7.3s\n",
      "[CV] C=100, gamma=0.01, kernel=poly ..................................\n",
      "[CV] ................... C=100, gamma=0.01, kernel=poly, total=   7.2s\n",
      "[CV] C=100, gamma=0.01, kernel=poly ..................................\n",
      "[CV] ................... C=100, gamma=0.01, kernel=poly, total=   7.2s\n",
      "[CV] C=100, gamma=0.01, kernel=sigmoid ...............................\n",
      "[CV] ................ C=100, gamma=0.01, kernel=sigmoid, total=   3.9s\n",
      "[CV] C=100, gamma=0.01, kernel=sigmoid ...............................\n",
      "[CV] ................ C=100, gamma=0.01, kernel=sigmoid, total=   5.3s\n",
      "[CV] C=100, gamma=0.01, kernel=sigmoid ...............................\n",
      "[CV] ................ C=100, gamma=0.01, kernel=sigmoid, total=   3.1s\n",
      "[CV] C=100, gamma=0.001, kernel=rbf ..................................\n",
      "[CV] ................... C=100, gamma=0.001, kernel=rbf, total=   4.3s\n",
      "[CV] C=100, gamma=0.001, kernel=rbf ..................................\n",
      "[CV] ................... C=100, gamma=0.001, kernel=rbf, total=   4.3s\n",
      "[CV] C=100, gamma=0.001, kernel=rbf ..................................\n",
      "[CV] ................... C=100, gamma=0.001, kernel=rbf, total=   4.2s\n",
      "[CV] C=100, gamma=0.001, kernel=poly .................................\n",
      "[CV] .................. C=100, gamma=0.001, kernel=poly, total=   9.1s\n",
      "[CV] C=100, gamma=0.001, kernel=poly .................................\n",
      "[CV] .................. C=100, gamma=0.001, kernel=poly, total=   8.9s\n",
      "[CV] C=100, gamma=0.001, kernel=poly .................................\n",
      "[CV] .................. C=100, gamma=0.001, kernel=poly, total=   8.8s\n",
      "[CV] C=100, gamma=0.001, kernel=sigmoid ..............................\n",
      "[CV] ............... C=100, gamma=0.001, kernel=sigmoid, total=   4.0s\n",
      "[CV] C=100, gamma=0.001, kernel=sigmoid ..............................\n",
      "[CV] ............... C=100, gamma=0.001, kernel=sigmoid, total=   4.1s\n",
      "[CV] C=100, gamma=0.001, kernel=sigmoid ..............................\n",
      "[CV] ............... C=100, gamma=0.001, kernel=sigmoid, total=   4.1s\n"
     ]
    },
    {
     "name": "stderr",
     "output_type": "stream",
     "text": [
      "[Parallel(n_jobs=1)]: Done 144 out of 144 | elapsed: 17.3min finished\n"
     ]
    },
    {
     "name": "stdout",
     "output_type": "stream",
     "text": [
      "SVC(C=10, cache_size=200, class_weight=None, coef0=0.0,\n",
      "    decision_function_shape='ovr', degree=3, gamma=0.01, kernel='rbf',\n",
      "    max_iter=-1, probability=False, random_state=None, shrinking=True,\n",
      "    tol=0.001, verbose=False)\n",
      "{'C': 10, 'gamma': 0.01, 'kernel': 'rbf'}\n"
     ]
    }
   ],
   "source": [
    "param_grid = {'C': [0.1,1, 10, 100], 'gamma': [1,0.1,0.01,0.001],'kernel': ['rbf', 'poly', 'sigmoid']}\n",
    "\n",
    "grid = GridSearchCV(SVC(),param_grid,refit=True,verbose=2,scoring = \"f1_weighted\")\n",
    "grid.fit(X_train,Y_train)\n",
    "print(grid.best_estimator_)\n",
    "print(grid.best_params_)\n"
   ]
  },
  {
   "cell_type": "code",
   "execution_count": 73,
   "metadata": {},
   "outputs": [
    {
     "data": {
      "text/plain": [
       "SVC(C=10, cache_size=200, class_weight=None, coef0=0.0,\n",
       "    decision_function_shape='ovr', degree=3, gamma=0.01, kernel='rbf',\n",
       "    max_iter=-1, probability=True, random_state=None, shrinking=True, tol=0.001,\n",
       "    verbose=False)"
      ]
     },
     "execution_count": 73,
     "metadata": {},
     "output_type": "execute_result"
    }
   ],
   "source": [
    "svc = SVC(C=10, cache_size=200, class_weight=None, coef0=0.0,\n",
    "    decision_function_shape='ovr', degree=3, gamma=0.01, kernel='rbf',\n",
    "    max_iter=-1, probability=True, random_state=None, shrinking=True,\n",
    "    tol=0.001, verbose=False)\n",
    "svc.fit(X_train,Y_train)"
   ]
  },
  {
   "cell_type": "code",
   "execution_count": 74,
   "metadata": {},
   "outputs": [],
   "source": [
    "preds_test = svc.predict(X_test)\n",
    "preds_train = svc.predict(X_train)\n"
   ]
  },
  {
   "cell_type": "code",
   "execution_count": 75,
   "metadata": {},
   "outputs": [
    {
     "name": "stdout",
     "output_type": "stream",
     "text": [
      "=====Accuracy score============\n",
      "\n",
      "Train accuracy score : 0.9948\n",
      "Test accuracy score : 0.8740\n",
      "\n",
      "=====Confusion Matrix==========\n",
      " \n",
      "[[1189  161]\n",
      " [ 190 1245]]\n",
      "\n",
      "=====Classification report=====\n",
      "\n",
      "              precision    recall  f1-score   support\n",
      "\n",
      "           0       0.86      0.88      0.87      1350\n",
      "           1       0.89      0.87      0.88      1435\n",
      "\n",
      "    accuracy                           0.87      2785\n",
      "   macro avg       0.87      0.87      0.87      2785\n",
      "weighted avg       0.87      0.87      0.87      2785\n",
      "\n"
     ]
    }
   ],
   "source": [
    "#Evaluating the predictions\n",
    "\n",
    "print(\"=====Accuracy score============\\n\")\n",
    "print(\"Train accuracy score : {:.4f}\".format(accuracy_score(Y_train,preds_train)))\n",
    "print(\"Test accuracy score : {:.4f}\".format(accuracy_score(Y_test,preds_test)))\n",
    "print(\"\\n=====Confusion Matrix==========\\n \")\n",
    "print(confusion_matrix(Y_test,preds_test))\n",
    "print(\"\\n=====Classification report=====\\n\")\n",
    "print(classification_report(Y_test,preds_test))"
   ]
  },
  {
   "cell_type": "code",
   "execution_count": 76,
   "metadata": {},
   "outputs": [],
   "source": [
    "probs = svc.predict_proba(X_test)[:,1]"
   ]
  },
  {
   "cell_type": "code",
   "execution_count": 77,
   "metadata": {},
   "outputs": [
    {
     "data": {
      "image/png": "[encoded data removed]",
      "text/plain": [
       "<Figure size 576x432 with 1 Axes>"
      ]
     },
     "metadata": {},
     "output_type": "display_data"
    }
   ],
   "source": [
    "fpr, tpr, thresholds = roc_curve(Y_test,probs)\n",
    "\n",
    "plt.figure(figsize = (8,6))\n",
    "plt.plot(fpr,tpr,'-', color = '#BD1C37',linewidth = 4)\n",
    "plt.plot([0.0,1.0],[0.0,1.0],color = '#315580',linewidth = 4)\n",
    "plt.title(\"ROC - AUC curve\",fontsize = 20)\n",
    "plt.xlabel(\"False positive rate\",fontsize = 15)\n",
    "plt.ylabel(\"True positive rate\",fontsize = 15)\n",
    "plt.show()"
   ]
  },
  {
   "cell_type": "code",
   "execution_count": 78,
   "metadata": {},
   "outputs": [
    {
     "name": "stdout",
     "output_type": "stream",
     "text": [
      "AUC SCORE : 0.9465\n"
     ]
    }
   ],
   "source": [
    "print('AUC SCORE : {:.4}'.format(auc(fpr,tpr)))"
   ]
  },
  {
   "cell_type": "markdown",
   "metadata": {},
   "source": [
    "# Test Cases"
   ]
  },
  {
   "cell_type": "markdown",
   "metadata": {},
   "source": [
    "Following are some random test cases and their sentimental analysis results"
   ]
  },
  {
   "cell_type": "code",
   "execution_count": 79,
   "metadata": {},
   "outputs": [],
   "source": [
    "classify_f['rating'].replace(classes,inplace = True)"
   ]
  },
  {
   "cell_type": "code",
   "execution_count": 80,
   "metadata": {},
   "outputs": [],
   "source": [
    "#Testing the model using a test function\n",
    "\n",
    "def test(args):\n",
    "        \n",
    "        r=classify_f['review'][args]\n",
    "        r = process_text(r)\n",
    "        r = stem(r)\n",
    "        r = join_words(r)\n",
    "        t=vectorizer.transform([r])\n",
    "        print(\"Actual rating: \",classify_f['rating'][args])\n",
    "        print(\"Predicted rating: \",svc.predict(t)[0],'\\n')"
   ]
  },
  {
   "cell_type": "code",
   "execution_count": 81,
   "metadata": {},
   "outputs": [
    {
     "name": "stdout",
     "output_type": "stream",
     "text": [
      "Case 1\n",
      "Actual rating:  1\n",
      "Predicted rating:  1 \n",
      "\n",
      "Case 2\n",
      "Actual rating:  0\n",
      "Predicted rating:  0 \n",
      "\n",
      "Case 3\n",
      "Actual rating:  0\n",
      "Predicted rating:  0 \n",
      "\n",
      "Case 4\n",
      "Actual rating:  1\n",
      "Predicted rating:  1 \n",
      "\n",
      "Case 5\n",
      "Actual rating:  0\n",
      "Predicted rating:  0 \n",
      "\n"
     ]
    }
   ],
   "source": [
    "#Generate 5 test cases using random reviews, print the actual and predicted ratings\n",
    "\n",
    "#From the test case results it can be observed that 4 out of 5 cases have been predicted accurately\n",
    "\n",
    "for i in range(5):\n",
    "    print(\"Case\",i+1)\n",
    "    test(random.randint(0,7000))"
   ]
  },
  {
   "cell_type": "code",
   "execution_count": null,
   "metadata": {},
   "outputs": [],
   "source": []
  }
 ],
 "metadata": {
  "kernelspec": {
   "display_name": "Python 3",
   "language": "python",
   "name": "python3"
  },
  "language_info": {
   "codemirror_mode": {
    "name": "ipython",
    "version": 3
   },
   "file_extension": ".py",
   "mimetype": "text/x-python",
   "name": "python",
   "nbconvert_exporter": "python",
   "pygments_lexer": "ipython3",
   "version": "3.7.4"
  }
 },
 "nbformat": 4,
 "nbformat_minor": 2
}
